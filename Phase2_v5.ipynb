{
 "cells": [
  {
   "cell_type": "markdown",
   "metadata": {},
   "source": [
    "# Predicting Heart Attacks"
   ]
  },
  {
   "cell_type": "markdown",
   "metadata": {},
   "source": [
    "The objective of this case study is to fit and compare at least three different binary classifiers to predict whether an individual will report having a heart attack using the Behavioral Risk Factor Surveillance System (BRFSS) data <cite data-cite=\"cdc\">(Centers for Disease Control and Prevention, 2018)</cite>. The descriptive features include 12 binary variables, 4 continuous variables, 2 ordinal categorical variables and 1 nominal categorical variable.\n",
    "\n",
    "We will be using only the data from their February survey which contains about 25K observations."
   ]
  },
  {
   "cell_type": "markdown",
   "metadata": {},
   "source": [
    "The report is organized as follows:\n",
    "* Section 2 (Overview) recaps Phase 1 and outlines our methodology.\n",
    "* Section 3 (Data Preparation) contains our final data preparation and encoding of our data.\n",
    "* Section 4 (Feature Selection) looks at several models defining our most important descriptive features for corectly categorizing our target feature.\n",
    "* Section 5 (Hyperparameter Tuning) describes the process for building and tuning each of our classification algorithms.\n",
    "* Section 6 (Performance Comparison) presents model performance comparison results.\n",
    "* Section 7 (Limitations and Proposed Solutions) looks ath the limitations of our models, and discusses possible ways to improve our them.\n",
    "* Section 8 (Summary) provides a final brief summary of our project."
   ]
  },
  {
   "cell_type": "markdown",
   "metadata": {},
   "source": [
    "\n",
    "\n",
    "\n",
    "\n",
    "\n",
    "\n",
    "\n",
    "\n",
    "\n",
    "\n",
    "\n",
    "\n",
    "\n",
    "\n",
    "\n"
   ]
  },
  {
   "cell_type": "markdown",
   "metadata": {},
   "source": [
    "## Overview"
   ]
  },
  {
   "cell_type": "markdown",
   "metadata": {},
   "source": [
    "In Phase I of the project we introduced the subject of our data: predicting if someone has a heart attack. We cleaned our data and did an analysis of our descriptive features. After data preprocessing and data preparation, the following features will be used for our methodology. A few features were dropped due to irrelevance or due to missing values."
   ]
  },
  {
   "cell_type": "markdown",
   "metadata": {},
   "source": [
    "\n",
    "* **state**: numeric categorical \n",
    "* **gender**: binary (1 male, 2 female)\n",
    "* **health status**: numeric categorical (scale from 1 to 5, from excellent to poor)\n",
    "* **high blood pressure**: binary (0 no, 1 yes)\n",
    "* **high cholesterol**: binary (0 no, 1 yes)\n",
    "* **asthma**: binary (0 no, 1 yes)\n",
    "* **arthritis**: binary (0 no, 1 yes)\n",
    "* **age**: numeric categorical, six age groups (1:'18_to_24', 2:'25_to_34', 3:'35_to_44', 4:'45_to_54', 5:'55_to_64', 6:'65_or_older')\n",
    "* **height**: numeric\n",
    "* **weight**: numeric\n",
    "* **overweight**: binary (0 no, 1 yes)\n",
    "* **smoking**: binary (0 no, 1 yes)\n",
    "* **alcohol**: binary (0 no, 1 yes)\n",
    "* **fruit**: binary (0 no, 1 yes)\n",
    "* **vegetables**: binary (0 no, 1 yes)\n",
    "* **oxygen max**: numeric\n",
    "* **functional capacity**: numeric\n",
    "* **aerobic guideline**: binary (0 negative, 1 positive)\n",
    "* **strength guideline**: binary (0 negative, 1 positive)"
   ]
  },
  {
   "cell_type": "markdown",
   "metadata": {},
   "source": [
    "In this phase, binary classifiers will be constructed to predict the target feature \"heart attack\". Classifiers are built from the following methods:\n",
    "\n",
    "* K-Nearest Neighbors (KNN),\n",
    "* Decision Trees (DT), and\n",
    "* Naive Bayes (NB).\n",
    "\n",
    "Before going into hyperparameter tuning for each of the methods, a final round of data preparation will be performed to make sure the data is ready for the machine learning algorithms. After that, a few feature selection methods will give us an idea which features are informative in predicting our target feature. It will also indicate how many features the model might need to be meaningful.\n",
    "\n",
    "For each model fitting, a feature selection method is added to the pipeline. In each pipeline, the Random Forest Importance method is used as a filter feature selection method. In predicting a heart attack, we are more interested in predicting positives than negatives. For that reason, we will be using the recall score to put more emphasis on positive target values. Another argument for using the recall score is having an imbalanced data set. The data set contains much more instances where people don't have a heart attack than instances where people have a heart attack. \n",
    "\n",
    "After hyperparameter tuning, methods are compared to each other using a paired t-test. The report finishes with a section on limitations and proposed solutions, and a final conclusion."
   ]
  },
  {
   "cell_type": "markdown",
   "metadata": {},
   "source": [
    "## Data Preparation"
   ]
  },
  {
   "cell_type": "markdown",
   "metadata": {},
   "source": [
    "### Loading Data Set\n",
    "We start with the data set that was preprocessed in Phase I of the project."
   ]
  },
  {
   "cell_type": "code",
   "execution_count": 98,
   "metadata": {},
   "outputs": [
    {
     "name": "stdout",
     "output_type": "stream",
     "text": [
      "(24398, 20)\n",
      "['state' 'gender' 'health_status' 'heart_attack' 'high_blood_pressure'\n",
      " 'high_cholesterol' 'asthma' 'arthritis' 'age' 'height' 'weight'\n",
      " 'overweight' 'smoking' 'alcohol' 'fruit' 'vegetables' 'oxygen_max'\n",
      " 'functional_capacity' 'aerobic_guideline' 'strength_guideline']\n"
     ]
    },
    {
     "data": {
      "text/html": [
       "<div>\n",
       "<style scoped>\n",
       "    .dataframe tbody tr th:only-of-type {\n",
       "        vertical-align: middle;\n",
       "    }\n",
       "\n",
       "    .dataframe tbody tr th {\n",
       "        vertical-align: top;\n",
       "    }\n",
       "\n",
       "    .dataframe thead th {\n",
       "        text-align: right;\n",
       "    }\n",
       "</style>\n",
       "<table border=\"1\" class=\"dataframe\">\n",
       "  <thead>\n",
       "    <tr style=\"text-align: right;\">\n",
       "      <th></th>\n",
       "      <th>state</th>\n",
       "      <th>gender</th>\n",
       "      <th>health_status</th>\n",
       "      <th>heart_attack</th>\n",
       "      <th>high_blood_pressure</th>\n",
       "      <th>high_cholesterol</th>\n",
       "      <th>asthma</th>\n",
       "      <th>arthritis</th>\n",
       "      <th>age</th>\n",
       "      <th>height</th>\n",
       "      <th>weight</th>\n",
       "      <th>overweight</th>\n",
       "      <th>smoking</th>\n",
       "      <th>alcohol</th>\n",
       "      <th>fruit</th>\n",
       "      <th>vegetables</th>\n",
       "      <th>oxygen_max</th>\n",
       "      <th>functional_capacity</th>\n",
       "      <th>aerobic_guideline</th>\n",
       "      <th>strength_guideline</th>\n",
       "    </tr>\n",
       "  </thead>\n",
       "  <tbody>\n",
       "    <tr>\n",
       "      <th>30762</th>\n",
       "      <td>56</td>\n",
       "      <td>2</td>\n",
       "      <td>3.0</td>\n",
       "      <td>0.0</td>\n",
       "      <td>0</td>\n",
       "      <td>0.0</td>\n",
       "      <td>0</td>\n",
       "      <td>0.0</td>\n",
       "      <td>5</td>\n",
       "      <td>170.0</td>\n",
       "      <td>68.04</td>\n",
       "      <td>0</td>\n",
       "      <td>0</td>\n",
       "      <td>0</td>\n",
       "      <td>1</td>\n",
       "      <td>1</td>\n",
       "      <td>25.06</td>\n",
       "      <td>4.30</td>\n",
       "      <td>1</td>\n",
       "      <td>0</td>\n",
       "    </tr>\n",
       "    <tr>\n",
       "      <th>4920</th>\n",
       "      <td>12</td>\n",
       "      <td>1</td>\n",
       "      <td>3.0</td>\n",
       "      <td>0.0</td>\n",
       "      <td>1</td>\n",
       "      <td>1.0</td>\n",
       "      <td>0</td>\n",
       "      <td>0.0</td>\n",
       "      <td>5</td>\n",
       "      <td>180.0</td>\n",
       "      <td>97.52</td>\n",
       "      <td>1</td>\n",
       "      <td>0</td>\n",
       "      <td>0</td>\n",
       "      <td>0</td>\n",
       "      <td>1</td>\n",
       "      <td>28.10</td>\n",
       "      <td>4.82</td>\n",
       "      <td>1</td>\n",
       "      <td>0</td>\n",
       "    </tr>\n",
       "    <tr>\n",
       "      <th>5120</th>\n",
       "      <td>12</td>\n",
       "      <td>2</td>\n",
       "      <td>2.0</td>\n",
       "      <td>0.0</td>\n",
       "      <td>0</td>\n",
       "      <td>1.0</td>\n",
       "      <td>0</td>\n",
       "      <td>0.0</td>\n",
       "      <td>5</td>\n",
       "      <td>157.0</td>\n",
       "      <td>86.18</td>\n",
       "      <td>1</td>\n",
       "      <td>0</td>\n",
       "      <td>0</td>\n",
       "      <td>0</td>\n",
       "      <td>1</td>\n",
       "      <td>25.80</td>\n",
       "      <td>4.42</td>\n",
       "      <td>0</td>\n",
       "      <td>1</td>\n",
       "    </tr>\n",
       "    <tr>\n",
       "      <th>11298</th>\n",
       "      <td>23</td>\n",
       "      <td>2</td>\n",
       "      <td>5.0</td>\n",
       "      <td>0.0</td>\n",
       "      <td>1</td>\n",
       "      <td>0.0</td>\n",
       "      <td>0</td>\n",
       "      <td>1.0</td>\n",
       "      <td>5</td>\n",
       "      <td>178.0</td>\n",
       "      <td>124.74</td>\n",
       "      <td>1</td>\n",
       "      <td>0</td>\n",
       "      <td>0</td>\n",
       "      <td>1</td>\n",
       "      <td>1</td>\n",
       "      <td>25.06</td>\n",
       "      <td>4.30</td>\n",
       "      <td>0</td>\n",
       "      <td>0</td>\n",
       "    </tr>\n",
       "    <tr>\n",
       "      <th>12598</th>\n",
       "      <td>24</td>\n",
       "      <td>2</td>\n",
       "      <td>2.0</td>\n",
       "      <td>0.0</td>\n",
       "      <td>0</td>\n",
       "      <td>1.0</td>\n",
       "      <td>0</td>\n",
       "      <td>1.0</td>\n",
       "      <td>6</td>\n",
       "      <td>160.0</td>\n",
       "      <td>55.34</td>\n",
       "      <td>0</td>\n",
       "      <td>0</td>\n",
       "      <td>0</td>\n",
       "      <td>1</td>\n",
       "      <td>1</td>\n",
       "      <td>16.92</td>\n",
       "      <td>2.90</td>\n",
       "      <td>1</td>\n",
       "      <td>0</td>\n",
       "    </tr>\n",
       "  </tbody>\n",
       "</table>\n",
       "</div>"
      ],
      "text/plain": [
       "       state  gender  health_status  heart_attack  high_blood_pressure  \\\n",
       "30762     56       2            3.0           0.0                    0   \n",
       "4920      12       1            3.0           0.0                    1   \n",
       "5120      12       2            2.0           0.0                    0   \n",
       "11298     23       2            5.0           0.0                    1   \n",
       "12598     24       2            2.0           0.0                    0   \n",
       "\n",
       "       high_cholesterol  asthma  arthritis  age  height  weight  overweight  \\\n",
       "30762               0.0       0        0.0    5   170.0   68.04           0   \n",
       "4920                1.0       0        0.0    5   180.0   97.52           1   \n",
       "5120                1.0       0        0.0    5   157.0   86.18           1   \n",
       "11298               0.0       0        1.0    5   178.0  124.74           1   \n",
       "12598               1.0       0        1.0    6   160.0   55.34           0   \n",
       "\n",
       "       smoking  alcohol  fruit  vegetables  oxygen_max  functional_capacity  \\\n",
       "30762        0        0      1           1       25.06                 4.30   \n",
       "4920         0        0      0           1       28.10                 4.82   \n",
       "5120         0        0      0           1       25.80                 4.42   \n",
       "11298        0        0      1           1       25.06                 4.30   \n",
       "12598        0        0      1           1       16.92                 2.90   \n",
       "\n",
       "       aerobic_guideline  strength_guideline  \n",
       "30762                  1                   0  \n",
       "4920                   1                   0  \n",
       "5120                   0                   1  \n",
       "11298                  0                   0  \n",
       "12598                  1                   0  "
      ]
     },
     "execution_count": 98,
     "metadata": {},
     "output_type": "execute_result"
    }
   ],
   "source": [
    "import pandas as pd\n",
    "import numpy as np\n",
    "np.random.seed(999)\n",
    "\n",
    "df = pd.read_csv('phase1_data.csv', index_col = 0)\n",
    "print(df.shape)\n",
    "print(df.columns.values)\n",
    "\n",
    "df.sample(n=5)"
   ]
  },
  {
   "cell_type": "markdown",
   "metadata": {},
   "source": [
    "### Checking for Missing Values\n",
    "We take a look at the missing values in our data set. We see that most columns are complete, but still have some NAs in high_cholesterol and arthritis. With such a large data set, we will still have enough data with these removed, so we remove them."
   ]
  },
  {
   "cell_type": "code",
   "execution_count": 99,
   "metadata": {},
   "outputs": [
    {
     "data": {
      "text/plain": [
       "state                     0\n",
       "gender                    0\n",
       "health_status             0\n",
       "heart_attack              0\n",
       "high_blood_pressure       0\n",
       "high_cholesterol       2566\n",
       "asthma                    0\n",
       "arthritis               123\n",
       "age                       0\n",
       "height                    0\n",
       "weight                    0\n",
       "overweight                0\n",
       "smoking                   0\n",
       "alcohol                   0\n",
       "fruit                     0\n",
       "vegetables                0\n",
       "oxygen_max                0\n",
       "functional_capacity       0\n",
       "aerobic_guideline         0\n",
       "strength_guideline        0\n",
       "dtype: int64"
      ]
     },
     "execution_count": 99,
     "metadata": {},
     "output_type": "execute_result"
    }
   ],
   "source": [
    "df.isna().sum()"
   ]
  },
  {
   "cell_type": "code",
   "execution_count": 100,
   "metadata": {},
   "outputs": [],
   "source": [
    "df = df.dropna(axis=0, how='any')\n",
    "df.isna().sum();"
   ]
  },
  {
   "cell_type": "markdown",
   "metadata": {},
   "source": [
    "### Summary Statistics\n",
    "Let's take a look at the summary statistics for our complete data set."
   ]
  },
  {
   "cell_type": "code",
   "execution_count": 101,
   "metadata": {},
   "outputs": [
    {
     "data": {
      "text/html": [
       "<div>\n",
       "<style scoped>\n",
       "    .dataframe tbody tr th:only-of-type {\n",
       "        vertical-align: middle;\n",
       "    }\n",
       "\n",
       "    .dataframe tbody tr th {\n",
       "        vertical-align: top;\n",
       "    }\n",
       "\n",
       "    .dataframe thead th {\n",
       "        text-align: right;\n",
       "    }\n",
       "</style>\n",
       "<table border=\"1\" class=\"dataframe\">\n",
       "  <thead>\n",
       "    <tr style=\"text-align: right;\">\n",
       "      <th></th>\n",
       "      <th>state</th>\n",
       "      <th>gender</th>\n",
       "      <th>health_status</th>\n",
       "      <th>heart_attack</th>\n",
       "      <th>high_blood_pressure</th>\n",
       "      <th>high_cholesterol</th>\n",
       "      <th>asthma</th>\n",
       "      <th>arthritis</th>\n",
       "      <th>age</th>\n",
       "      <th>height</th>\n",
       "      <th>weight</th>\n",
       "      <th>overweight</th>\n",
       "      <th>smoking</th>\n",
       "      <th>alcohol</th>\n",
       "      <th>fruit</th>\n",
       "      <th>vegetables</th>\n",
       "      <th>oxygen_max</th>\n",
       "      <th>functional_capacity</th>\n",
       "      <th>aerobic_guideline</th>\n",
       "      <th>strength_guideline</th>\n",
       "    </tr>\n",
       "  </thead>\n",
       "  <tbody>\n",
       "    <tr>\n",
       "      <th>count</th>\n",
       "      <td>21725.000000</td>\n",
       "      <td>21725.000000</td>\n",
       "      <td>21725.000000</td>\n",
       "      <td>21725.000000</td>\n",
       "      <td>21725.000000</td>\n",
       "      <td>21725.000000</td>\n",
       "      <td>21725.000000</td>\n",
       "      <td>21725.000000</td>\n",
       "      <td>21725.000000</td>\n",
       "      <td>21725.000000</td>\n",
       "      <td>21725.000000</td>\n",
       "      <td>21725.000000</td>\n",
       "      <td>21725.000000</td>\n",
       "      <td>21725.000000</td>\n",
       "      <td>21725.000000</td>\n",
       "      <td>21725.000000</td>\n",
       "      <td>21725.000000</td>\n",
       "      <td>21725.000000</td>\n",
       "      <td>21725.000000</td>\n",
       "      <td>21725.000000</td>\n",
       "    </tr>\n",
       "    <tr>\n",
       "      <th>mean</th>\n",
       "      <td>30.177768</td>\n",
       "      <td>1.552221</td>\n",
       "      <td>2.558481</td>\n",
       "      <td>0.059287</td>\n",
       "      <td>0.419977</td>\n",
       "      <td>0.397883</td>\n",
       "      <td>0.137768</td>\n",
       "      <td>0.347894</td>\n",
       "      <td>4.581266</td>\n",
       "      <td>169.953049</td>\n",
       "      <td>82.098541</td>\n",
       "      <td>0.691093</td>\n",
       "      <td>0.139333</td>\n",
       "      <td>0.118895</td>\n",
       "      <td>0.669735</td>\n",
       "      <td>0.839678</td>\n",
       "      <td>27.773433</td>\n",
       "      <td>4.761203</td>\n",
       "      <td>0.489344</td>\n",
       "      <td>0.294177</td>\n",
       "    </tr>\n",
       "    <tr>\n",
       "      <th>std</th>\n",
       "      <td>16.166910</td>\n",
       "      <td>0.497277</td>\n",
       "      <td>1.073332</td>\n",
       "      <td>0.236166</td>\n",
       "      <td>0.493566</td>\n",
       "      <td>0.489472</td>\n",
       "      <td>0.344664</td>\n",
       "      <td>0.476313</td>\n",
       "      <td>1.454676</td>\n",
       "      <td>10.560795</td>\n",
       "      <td>20.356807</td>\n",
       "      <td>0.462053</td>\n",
       "      <td>0.346301</td>\n",
       "      <td>0.323673</td>\n",
       "      <td>0.470319</td>\n",
       "      <td>0.366913</td>\n",
       "      <td>7.743564</td>\n",
       "      <td>1.327521</td>\n",
       "      <td>0.499898</td>\n",
       "      <td>0.455682</td>\n",
       "    </tr>\n",
       "    <tr>\n",
       "      <th>min</th>\n",
       "      <td>1.000000</td>\n",
       "      <td>1.000000</td>\n",
       "      <td>1.000000</td>\n",
       "      <td>0.000000</td>\n",
       "      <td>0.000000</td>\n",
       "      <td>0.000000</td>\n",
       "      <td>0.000000</td>\n",
       "      <td>0.000000</td>\n",
       "      <td>1.000000</td>\n",
       "      <td>105.000000</td>\n",
       "      <td>28.120000</td>\n",
       "      <td>0.000000</td>\n",
       "      <td>0.000000</td>\n",
       "      <td>0.000000</td>\n",
       "      <td>0.000000</td>\n",
       "      <td>0.000000</td>\n",
       "      <td>5.550000</td>\n",
       "      <td>0.950000</td>\n",
       "      <td>0.000000</td>\n",
       "      <td>0.000000</td>\n",
       "    </tr>\n",
       "    <tr>\n",
       "      <th>25%</th>\n",
       "      <td>19.000000</td>\n",
       "      <td>1.000000</td>\n",
       "      <td>2.000000</td>\n",
       "      <td>0.000000</td>\n",
       "      <td>0.000000</td>\n",
       "      <td>0.000000</td>\n",
       "      <td>0.000000</td>\n",
       "      <td>0.000000</td>\n",
       "      <td>4.000000</td>\n",
       "      <td>163.000000</td>\n",
       "      <td>68.040000</td>\n",
       "      <td>0.000000</td>\n",
       "      <td>0.000000</td>\n",
       "      <td>0.000000</td>\n",
       "      <td>0.000000</td>\n",
       "      <td>1.000000</td>\n",
       "      <td>22.100000</td>\n",
       "      <td>3.790000</td>\n",
       "      <td>0.000000</td>\n",
       "      <td>0.000000</td>\n",
       "    </tr>\n",
       "    <tr>\n",
       "      <th>50%</th>\n",
       "      <td>30.000000</td>\n",
       "      <td>2.000000</td>\n",
       "      <td>2.000000</td>\n",
       "      <td>0.000000</td>\n",
       "      <td>0.000000</td>\n",
       "      <td>0.000000</td>\n",
       "      <td>0.000000</td>\n",
       "      <td>0.000000</td>\n",
       "      <td>5.000000</td>\n",
       "      <td>170.000000</td>\n",
       "      <td>79.380000</td>\n",
       "      <td>1.000000</td>\n",
       "      <td>0.000000</td>\n",
       "      <td>0.000000</td>\n",
       "      <td>1.000000</td>\n",
       "      <td>1.000000</td>\n",
       "      <td>26.540000</td>\n",
       "      <td>4.550000</td>\n",
       "      <td>0.000000</td>\n",
       "      <td>0.000000</td>\n",
       "    </tr>\n",
       "    <tr>\n",
       "      <th>75%</th>\n",
       "      <td>42.000000</td>\n",
       "      <td>2.000000</td>\n",
       "      <td>3.000000</td>\n",
       "      <td>0.000000</td>\n",
       "      <td>1.000000</td>\n",
       "      <td>1.000000</td>\n",
       "      <td>0.000000</td>\n",
       "      <td>1.000000</td>\n",
       "      <td>6.000000</td>\n",
       "      <td>178.000000</td>\n",
       "      <td>92.990000</td>\n",
       "      <td>1.000000</td>\n",
       "      <td>0.000000</td>\n",
       "      <td>0.000000</td>\n",
       "      <td>1.000000</td>\n",
       "      <td>1.000000</td>\n",
       "      <td>32.500000</td>\n",
       "      <td>5.570000</td>\n",
       "      <td>1.000000</td>\n",
       "      <td>1.000000</td>\n",
       "    </tr>\n",
       "    <tr>\n",
       "      <th>max</th>\n",
       "      <td>72.000000</td>\n",
       "      <td>2.000000</td>\n",
       "      <td>5.000000</td>\n",
       "      <td>1.000000</td>\n",
       "      <td>1.000000</td>\n",
       "      <td>1.000000</td>\n",
       "      <td>1.000000</td>\n",
       "      <td>1.000000</td>\n",
       "      <td>6.000000</td>\n",
       "      <td>216.000000</td>\n",
       "      <td>272.160000</td>\n",
       "      <td>1.000000</td>\n",
       "      <td>1.000000</td>\n",
       "      <td>1.000000</td>\n",
       "      <td>1.000000</td>\n",
       "      <td>1.000000</td>\n",
       "      <td>50.100000</td>\n",
       "      <td>8.590000</td>\n",
       "      <td>1.000000</td>\n",
       "      <td>1.000000</td>\n",
       "    </tr>\n",
       "  </tbody>\n",
       "</table>\n",
       "</div>"
      ],
      "text/plain": [
       "              state        gender  health_status  heart_attack  \\\n",
       "count  21725.000000  21725.000000   21725.000000  21725.000000   \n",
       "mean      30.177768      1.552221       2.558481      0.059287   \n",
       "std       16.166910      0.497277       1.073332      0.236166   \n",
       "min        1.000000      1.000000       1.000000      0.000000   \n",
       "25%       19.000000      1.000000       2.000000      0.000000   \n",
       "50%       30.000000      2.000000       2.000000      0.000000   \n",
       "75%       42.000000      2.000000       3.000000      0.000000   \n",
       "max       72.000000      2.000000       5.000000      1.000000   \n",
       "\n",
       "       high_blood_pressure  high_cholesterol        asthma     arthritis  \\\n",
       "count         21725.000000      21725.000000  21725.000000  21725.000000   \n",
       "mean              0.419977          0.397883      0.137768      0.347894   \n",
       "std               0.493566          0.489472      0.344664      0.476313   \n",
       "min               0.000000          0.000000      0.000000      0.000000   \n",
       "25%               0.000000          0.000000      0.000000      0.000000   \n",
       "50%               0.000000          0.000000      0.000000      0.000000   \n",
       "75%               1.000000          1.000000      0.000000      1.000000   \n",
       "max               1.000000          1.000000      1.000000      1.000000   \n",
       "\n",
       "                age        height        weight    overweight       smoking  \\\n",
       "count  21725.000000  21725.000000  21725.000000  21725.000000  21725.000000   \n",
       "mean       4.581266    169.953049     82.098541      0.691093      0.139333   \n",
       "std        1.454676     10.560795     20.356807      0.462053      0.346301   \n",
       "min        1.000000    105.000000     28.120000      0.000000      0.000000   \n",
       "25%        4.000000    163.000000     68.040000      0.000000      0.000000   \n",
       "50%        5.000000    170.000000     79.380000      1.000000      0.000000   \n",
       "75%        6.000000    178.000000     92.990000      1.000000      0.000000   \n",
       "max        6.000000    216.000000    272.160000      1.000000      1.000000   \n",
       "\n",
       "            alcohol         fruit    vegetables    oxygen_max  \\\n",
       "count  21725.000000  21725.000000  21725.000000  21725.000000   \n",
       "mean       0.118895      0.669735      0.839678     27.773433   \n",
       "std        0.323673      0.470319      0.366913      7.743564   \n",
       "min        0.000000      0.000000      0.000000      5.550000   \n",
       "25%        0.000000      0.000000      1.000000     22.100000   \n",
       "50%        0.000000      1.000000      1.000000     26.540000   \n",
       "75%        0.000000      1.000000      1.000000     32.500000   \n",
       "max        1.000000      1.000000      1.000000     50.100000   \n",
       "\n",
       "       functional_capacity  aerobic_guideline  strength_guideline  \n",
       "count         21725.000000       21725.000000        21725.000000  \n",
       "mean              4.761203           0.489344            0.294177  \n",
       "std               1.327521           0.499898            0.455682  \n",
       "min               0.950000           0.000000            0.000000  \n",
       "25%               3.790000           0.000000            0.000000  \n",
       "50%               4.550000           0.000000            0.000000  \n",
       "75%               5.570000           1.000000            1.000000  \n",
       "max               8.590000           1.000000            1.000000  "
      ]
     },
     "execution_count": 101,
     "metadata": {},
     "output_type": "execute_result"
    }
   ],
   "source": [
    "df.describe(include = 'all')"
   ]
  },
  {
   "cell_type": "markdown",
   "metadata": {},
   "source": [
    "### Encoding Features\n",
    "Most features were encoded in Phase I. There are three features that need to be transformed before we can move on to feature selection.\n",
    "\n",
    "There is one nominal category feature which is the state. In the data set, this feature is coded as integers. To make sure we treat this feature as a categorical variable we recode this with the full name of the state. Afterwards, we perform one-hot encoding for the state feature, creating a dummy variable for each state.\n",
    "\n",
    "Another feature that will be encoded is the age variable, which consists of ordered distinct age groups. For each of the six age groups, a dummy variable will be created.\n",
    "\n",
    "The third feature is also an ordinal category variable, measuring the health status on a scale from 1 to 5. The lowest value stands for excellent health status, the highest value for poor. For this feature we keep the integer-encoding. However, to keep the interpretation clear, we inverse the leveling of the health status: the lowest value stands for poor health, the highest value stands for excellent health."
   ]
  },
  {
   "cell_type": "code",
   "execution_count": 102,
   "metadata": {},
   "outputs": [],
   "source": [
    "# Create a copy\n",
    "df_cat = df.copy()"
   ]
  },
  {
   "cell_type": "code",
   "execution_count": 103,
   "metadata": {},
   "outputs": [],
   "source": [
    "state = ['Alabama', 'Alaska', 'Arizona', 'Arkansas', 'California', 'Colorado', 'Connecticut',\n",
    "             'Delaware', 'District of Columbia', 'Florida', 'Georgia', 'Hawaii', 'Idaho', 'Illinois',\n",
    "             'Indiana', 'Iowa', 'Kansas', 'Kentucky', 'Louisiana', 'Maine', 'Maryland',\n",
    "             'Massachusetts', 'Michigan', 'Minnesota', 'Mississippi', 'Missouri', 'Montana',\n",
    "             'Nebraska', 'Nevada', 'New Hampshire', 'New Jersey', 'New Mexico', 'New York', \n",
    "             'North Carolina', 'North Dakota', 'Ohio', 'Oklahoma', 'Oregon', 'Pennsylvania', \n",
    "             'Rhode Island', 'South Carolina', 'South Dakota', 'Tennessee', 'Texas', 'Utah',\n",
    "             'Vermont', 'Virginia', 'Washington', 'West Virginia', 'Wisconsin', 'Wyoming', 'Guam',\n",
    "             'Puerto Rico']\n",
    "\n",
    "k=0\n",
    "state_num_sorted = np.sort(df_cat.state.unique())\n",
    "for j in state_num_sorted:\n",
    "    df_cat.loc[df_cat['state'] == j, 'state'] = state[k]\n",
    "    k = k + 1"
   ]
  },
  {
   "cell_type": "code",
   "execution_count": 104,
   "metadata": {},
   "outputs": [],
   "source": [
    "df_cat = pd.get_dummies(df_cat)"
   ]
  },
  {
   "cell_type": "code",
   "execution_count": 105,
   "metadata": {},
   "outputs": [
    {
     "data": {
      "text/plain": [
       "6    7875\n",
       "5    5216\n",
       "4    3647\n",
       "3    2413\n",
       "2    1797\n",
       "1     777\n",
       "Name: age, dtype: int64"
      ]
     },
     "execution_count": 105,
     "metadata": {},
     "output_type": "execute_result"
    }
   ],
   "source": [
    "df_cat['age'].value_counts()"
   ]
  },
  {
   "cell_type": "code",
   "execution_count": 106,
   "metadata": {},
   "outputs": [
    {
     "data": {
      "text/html": [
       "<div>\n",
       "<style scoped>\n",
       "    .dataframe tbody tr th:only-of-type {\n",
       "        vertical-align: middle;\n",
       "    }\n",
       "\n",
       "    .dataframe tbody tr th {\n",
       "        vertical-align: top;\n",
       "    }\n",
       "\n",
       "    .dataframe thead th {\n",
       "        text-align: right;\n",
       "    }\n",
       "</style>\n",
       "<table border=\"1\" class=\"dataframe\">\n",
       "  <thead>\n",
       "    <tr style=\"text-align: right;\">\n",
       "      <th></th>\n",
       "      <th>gender</th>\n",
       "      <th>health_status</th>\n",
       "      <th>heart_attack</th>\n",
       "      <th>high_blood_pressure</th>\n",
       "      <th>high_cholesterol</th>\n",
       "      <th>asthma</th>\n",
       "      <th>arthritis</th>\n",
       "      <th>height</th>\n",
       "      <th>weight</th>\n",
       "      <th>overweight</th>\n",
       "      <th>...</th>\n",
       "      <th>state_Washington</th>\n",
       "      <th>state_West Virginia</th>\n",
       "      <th>state_Wisconsin</th>\n",
       "      <th>state_Wyoming</th>\n",
       "      <th>age_group_18_to_24</th>\n",
       "      <th>age_group_25_to_34</th>\n",
       "      <th>age_group_35_to_44</th>\n",
       "      <th>age_group_45_to_54</th>\n",
       "      <th>age_group_55_to_64</th>\n",
       "      <th>age_group_65_or_older</th>\n",
       "    </tr>\n",
       "  </thead>\n",
       "  <tbody>\n",
       "    <tr>\n",
       "      <th>25432</th>\n",
       "      <td>2</td>\n",
       "      <td>5.0</td>\n",
       "      <td>0.0</td>\n",
       "      <td>0</td>\n",
       "      <td>1.0</td>\n",
       "      <td>0</td>\n",
       "      <td>0.0</td>\n",
       "      <td>168.0</td>\n",
       "      <td>68.04</td>\n",
       "      <td>0</td>\n",
       "      <td>...</td>\n",
       "      <td>0</td>\n",
       "      <td>0</td>\n",
       "      <td>0</td>\n",
       "      <td>0</td>\n",
       "      <td>0</td>\n",
       "      <td>0</td>\n",
       "      <td>0</td>\n",
       "      <td>1</td>\n",
       "      <td>0</td>\n",
       "      <td>0</td>\n",
       "    </tr>\n",
       "    <tr>\n",
       "      <th>5104</th>\n",
       "      <td>1</td>\n",
       "      <td>4.0</td>\n",
       "      <td>0.0</td>\n",
       "      <td>1</td>\n",
       "      <td>1.0</td>\n",
       "      <td>0</td>\n",
       "      <td>0.0</td>\n",
       "      <td>173.0</td>\n",
       "      <td>176.90</td>\n",
       "      <td>1</td>\n",
       "      <td>...</td>\n",
       "      <td>0</td>\n",
       "      <td>0</td>\n",
       "      <td>0</td>\n",
       "      <td>0</td>\n",
       "      <td>0</td>\n",
       "      <td>0</td>\n",
       "      <td>1</td>\n",
       "      <td>0</td>\n",
       "      <td>0</td>\n",
       "      <td>0</td>\n",
       "    </tr>\n",
       "    <tr>\n",
       "      <th>13772</th>\n",
       "      <td>2</td>\n",
       "      <td>4.0</td>\n",
       "      <td>1.0</td>\n",
       "      <td>0</td>\n",
       "      <td>0.0</td>\n",
       "      <td>0</td>\n",
       "      <td>1.0</td>\n",
       "      <td>157.0</td>\n",
       "      <td>52.16</td>\n",
       "      <td>0</td>\n",
       "      <td>...</td>\n",
       "      <td>0</td>\n",
       "      <td>0</td>\n",
       "      <td>0</td>\n",
       "      <td>0</td>\n",
       "      <td>0</td>\n",
       "      <td>0</td>\n",
       "      <td>0</td>\n",
       "      <td>0</td>\n",
       "      <td>0</td>\n",
       "      <td>1</td>\n",
       "    </tr>\n",
       "    <tr>\n",
       "      <th>14118</th>\n",
       "      <td>1</td>\n",
       "      <td>5.0</td>\n",
       "      <td>0.0</td>\n",
       "      <td>1</td>\n",
       "      <td>1.0</td>\n",
       "      <td>0</td>\n",
       "      <td>1.0</td>\n",
       "      <td>180.0</td>\n",
       "      <td>96.16</td>\n",
       "      <td>1</td>\n",
       "      <td>...</td>\n",
       "      <td>0</td>\n",
       "      <td>0</td>\n",
       "      <td>0</td>\n",
       "      <td>0</td>\n",
       "      <td>0</td>\n",
       "      <td>0</td>\n",
       "      <td>0</td>\n",
       "      <td>0</td>\n",
       "      <td>0</td>\n",
       "      <td>1</td>\n",
       "    </tr>\n",
       "    <tr>\n",
       "      <th>22839</th>\n",
       "      <td>2</td>\n",
       "      <td>1.0</td>\n",
       "      <td>0.0</td>\n",
       "      <td>0</td>\n",
       "      <td>0.0</td>\n",
       "      <td>0</td>\n",
       "      <td>0.0</td>\n",
       "      <td>170.0</td>\n",
       "      <td>72.57</td>\n",
       "      <td>1</td>\n",
       "      <td>...</td>\n",
       "      <td>0</td>\n",
       "      <td>0</td>\n",
       "      <td>0</td>\n",
       "      <td>0</td>\n",
       "      <td>0</td>\n",
       "      <td>0</td>\n",
       "      <td>0</td>\n",
       "      <td>1</td>\n",
       "      <td>0</td>\n",
       "      <td>0</td>\n",
       "    </tr>\n",
       "  </tbody>\n",
       "</table>\n",
       "<p>5 rows × 77 columns</p>\n",
       "</div>"
      ],
      "text/plain": [
       "       gender  health_status  heart_attack  high_blood_pressure  \\\n",
       "25432       2            5.0           0.0                    0   \n",
       "5104        1            4.0           0.0                    1   \n",
       "13772       2            4.0           1.0                    0   \n",
       "14118       1            5.0           0.0                    1   \n",
       "22839       2            1.0           0.0                    0   \n",
       "\n",
       "       high_cholesterol  asthma  arthritis  height  weight  overweight  \\\n",
       "25432               1.0       0        0.0   168.0   68.04           0   \n",
       "5104                1.0       0        0.0   173.0  176.90           1   \n",
       "13772               0.0       0        1.0   157.0   52.16           0   \n",
       "14118               1.0       0        1.0   180.0   96.16           1   \n",
       "22839               0.0       0        0.0   170.0   72.57           1   \n",
       "\n",
       "               ...            state_Washington  state_West Virginia  \\\n",
       "25432          ...                           0                    0   \n",
       "5104           ...                           0                    0   \n",
       "13772          ...                           0                    0   \n",
       "14118          ...                           0                    0   \n",
       "22839          ...                           0                    0   \n",
       "\n",
       "       state_Wisconsin  state_Wyoming  age_group_18_to_24  age_group_25_to_34  \\\n",
       "25432                0              0                   0                   0   \n",
       "5104                 0              0                   0                   0   \n",
       "13772                0              0                   0                   0   \n",
       "14118                0              0                   0                   0   \n",
       "22839                0              0                   0                   0   \n",
       "\n",
       "       age_group_35_to_44  age_group_45_to_54  age_group_55_to_64  \\\n",
       "25432                   0                   1                   0   \n",
       "5104                    1                   0                   0   \n",
       "13772                   0                   0                   0   \n",
       "14118                   0                   0                   0   \n",
       "22839                   0                   1                   0   \n",
       "\n",
       "       age_group_65_or_older  \n",
       "25432                      0  \n",
       "5104                       0  \n",
       "13772                      1  \n",
       "14118                      1  \n",
       "22839                      0  \n",
       "\n",
       "[5 rows x 77 columns]"
      ]
     },
     "execution_count": 106,
     "metadata": {},
     "output_type": "execute_result"
    }
   ],
   "source": [
    "age_groups = ['18_to_24', '25_to_34', \n",
    "               '35_to_44', '45_to_54', \n",
    "               '55_to_64', '65_or_older']\n",
    "k=0\n",
    "age_num_sorted = np.sort(df_cat.age.unique())\n",
    "for j in age_num_sorted:\n",
    "    df_cat.loc[df_cat['age'] == j, 'age_group'] = age_groups[k]\n",
    "    k = k + 1\n",
    "\n",
    "# Drop numerical age feature\n",
    "df_cat = df_cat.drop(columns = 'age')\n",
    "\n",
    "# One-hot-encoding for age_group feature\n",
    "df_cat = pd.get_dummies(df_cat)\n",
    "df_cat.sample(n=5)"
   ]
  },
  {
   "cell_type": "code",
   "execution_count": 93,
   "metadata": {},
   "outputs": [],
   "source": [
    "df_cat['health_status_inv'] = df_cat['health_status']\n",
    "\n",
    "k = 0\n",
    "healh_status_sort = np.sort(df_cat.health_status.unique())\n",
    "for j in healh_status_sort:\n",
    "    df_cat.loc[df_cat['health_status_inv'] == j, 'health_status'] = 6-j\n",
    "    k = k + 1\n",
    "    \n",
    "df_cat = df_cat.drop(columns = 'health_status_inv')\n",
    "df_cat.columns;"
   ]
  },
  {
   "cell_type": "markdown",
   "metadata": {},
   "source": [
    "### Encoding Target Feature\n",
    "The target feature, 'heart attack', is a binary variable. This feature was processed in Phase I, coded with a one for heart attack and a zero for no heart attack. In the code below, the data with descriptive features and the target feature will be separated."
   ]
  },
  {
   "cell_type": "code",
   "execution_count": 11,
   "metadata": {},
   "outputs": [],
   "source": [
    "df = df_cat.copy()\n",
    "# Column order in df should be the same as in Data\n",
    "df['y_heart_attack'] = df['heart_attack']\n",
    "df = df.drop(columns = 'heart_attack')\n",
    "\n",
    "# Split data and target\n",
    "Data = df.drop(columns = 'y_heart_attack')\n",
    "target = df['y_heart_attack']"
   ]
  },
  {
   "cell_type": "markdown",
   "metadata": {},
   "source": [
    "### Scaling Descriptive Features\n",
    "Each descriptive feature in the data set will be normalized between zero and one. "
   ]
  },
  {
   "cell_type": "code",
   "execution_count": 12,
   "metadata": {},
   "outputs": [
    {
     "name": "stderr",
     "output_type": "stream",
     "text": [
      "C:\\Users\\olivi\\Miniconda3\\lib\\site-packages\\sklearn\\preprocessing\\data.py:323: DataConversionWarning: Data with input dtype uint8, int64, float64 were all converted to float64 by MinMaxScaler.\n",
      "  return self.partial_fit(X, y)\n"
     ]
    }
   ],
   "source": [
    "from sklearn import preprocessing\n",
    "Data = preprocessing.MinMaxScaler().fit_transform(Data)"
   ]
  },
  {
   "cell_type": "markdown",
   "metadata": {},
   "source": [
    "## Feature Selection"
   ]
  },
  {
   "cell_type": "markdown",
   "metadata": {},
   "source": [
    "### Performance with Full Set of Features\n",
    "Using the 1-nearest neighbor classifier, using stratified 5-fold cross-validation with 3 repetitions."
   ]
  },
  {
   "cell_type": "code",
   "execution_count": 13,
   "metadata": {},
   "outputs": [],
   "source": [
    "from sklearn.neighbors import KNeighborsClassifier\n",
    "# 1-nearest neighbor classifier\n",
    "clfr = KNeighborsClassifier(n_neighbors = 1)"
   ]
  },
  {
   "cell_type": "code",
   "execution_count": 14,
   "metadata": {},
   "outputs": [],
   "source": [
    "from sklearn.model_selection import RepeatedStratifiedKFold\n",
    "# 5-fold cross validation with 3 repetition\n",
    "cv_method = RepeatedStratifiedKFold(n_splits = 5,\n",
    "                                   n_repeats = 3,\n",
    "                                   random_state = 999)\n",
    "scoring_metric = 'accuracy'"
   ]
  },
  {
   "cell_type": "code",
   "execution_count": 15,
   "metadata": {},
   "outputs": [],
   "source": [
    "from sklearn.model_selection import cross_val_score\n",
    "# Peforming cross validation\n",
    "cv_results_full = cross_val_score(estimator = clfr,\n",
    "                                 X = Data,\n",
    "                                 y = target,\n",
    "                                 cv = cv_method,\n",
    "                                 scoring = scoring_metric)"
   ]
  },
  {
   "cell_type": "code",
   "execution_count": 16,
   "metadata": {},
   "outputs": [
    {
     "name": "stdout",
     "output_type": "stream",
     "text": [
      "0.9\n"
     ]
    },
    {
     "data": {
      "text/plain": [
       "array([0.89576622, 0.90036815, 0.90379747, 0.89917127, 0.89663904,\n",
       "       0.8971468 , 0.89668661, 0.90356732, 0.90032228, 0.89940147,\n",
       "       0.8971468 , 0.90865163, 0.90057537, 0.90331492, 0.90078269])"
      ]
     },
     "execution_count": 16,
     "metadata": {},
     "output_type": "execute_result"
    }
   ],
   "source": [
    "print(cv_results_full.mean().round(3))\n",
    "cv_results_full"
   ]
  },
  {
   "cell_type": "markdown",
   "metadata": {},
   "source": [
    "With the full set of features and with the 1-nearest neighbor classifier as the wrapper, an average accuracy is achieved of 90.0%."
   ]
  },
  {
   "cell_type": "markdown",
   "metadata": {},
   "source": [
    "### Feature Ranking\n",
    "In this section a number of best features are found using the F-score, mutual information and random forest importance."
   ]
  },
  {
   "cell_type": "markdown",
   "metadata": {},
   "source": [
    "#### Using F-score\n",
    "There are six features that are standing out in importance using the F-score method:\n",
    "* health status,\n",
    "* high blood pressure,\n",
    "* oxygen max,\n",
    "* functional capacity,\n",
    "* high cholesterol, and\n",
    "* age group 65 or older\n",
    "The feature arthritis is scoring less on importance compared to the best six, but still relatively better than the other features.\n",
    "\n",
    "Using the best seven features, the accuracy performance is equal to 90.3%, which is 0.3% better than using the full set of features."
   ]
  },
  {
   "cell_type": "code",
   "execution_count": 17,
   "metadata": {},
   "outputs": [],
   "source": [
    "# number of features to be selected\n",
    "num_features = 10"
   ]
  },
  {
   "cell_type": "code",
   "execution_count": 18,
   "metadata": {},
   "outputs": [
    {
     "data": {
      "text/plain": [
       "array(['health_status', 'high_blood_pressure', 'oxygen_max',\n",
       "       'functional_capacity', 'high_cholesterol', 'age_group_65_or_older',\n",
       "       'arthritis', 'gender', 'age_group_35_to_44', 'age_group_25_to_34'],\n",
       "      dtype=object)"
      ]
     },
     "execution_count": 18,
     "metadata": {},
     "output_type": "execute_result"
    }
   ],
   "source": [
    "from sklearn import feature_selection as fs\n",
    "\n",
    "fs_fit_fscore = fs.SelectKBest(fs.f_classif, k=num_features)\n",
    "fs_fit_fscore.fit_transform(Data, target)\n",
    "\n",
    "fs_indices_fscore = np.argsort(fs_fit_fscore.scores_)[::-1][0:num_features]\n",
    "fs_indices_fscore\n",
    "\n",
    "best_features_fscore = df.columns[fs_indices_fscore].values\n",
    "best_features_fscore"
   ]
  },
  {
   "cell_type": "code",
   "execution_count": 19,
   "metadata": {},
   "outputs": [
    {
     "data": {
      "text/plain": [
       "array([982.83427495, 654.52122767, 617.63912182, 617.62069739,\n",
       "       521.56552048, 478.59920742, 268.2859618 , 149.98064838,\n",
       "       115.13911103, 103.97169113])"
      ]
     },
     "execution_count": 19,
     "metadata": {},
     "output_type": "execute_result"
    }
   ],
   "source": [
    "feature_importances_fscore = fs_fit_fscore.scores_[fs_indices_fscore]\n",
    "feature_importances_fscore"
   ]
  },
  {
   "cell_type": "code",
   "execution_count": 20,
   "metadata": {},
   "outputs": [],
   "source": [
    "import altair as alt\n",
    "alt.renderers.enable('notebook')\n",
    "\n",
    "def plot_imp(best_features, scores, method_name, color):\n",
    "    \n",
    "    df = pd.DataFrame({'features': best_features, \n",
    "                       'importances': scores})\n",
    "    \n",
    "    chart = alt.Chart(df, \n",
    "                      width=500, \n",
    "                      title=method_name + ' Feature Importances'\n",
    "                     ).mark_bar(opacity=0.75, \n",
    "                                color=color).encode(\n",
    "        alt.X('features', title='Feature', sort=None, axis=alt.AxisConfig(labelAngle=45)),\n",
    "        alt.Y('importances', title='Importance')\n",
    "    )\n",
    "    \n",
    "    return chart"
   ]
  },
  {
   "cell_type": "code",
   "execution_count": 21,
   "metadata": {},
   "outputs": [
    {
     "data": {
      "application/javascript": [
       "var spec = {\"config\": {\"view\": {\"width\": 400, \"height\": 300}, \"mark\": {\"tooltip\": null}}, \"data\": {\"name\": \"data-133685cdb569d601b8986445ade94da2\"}, \"mark\": {\"type\": \"bar\", \"color\": \"darkblue\", \"opacity\": 0.75}, \"encoding\": {\"x\": {\"type\": \"nominal\", \"axis\": {\"labelAngle\": 45}, \"field\": \"features\", \"sort\": null, \"title\": \"Feature\"}, \"y\": {\"type\": \"quantitative\", \"field\": \"importances\", \"title\": \"Importance\"}}, \"title\": \"F-Score Feature Importances\", \"width\": 500, \"$schema\": \"https://vega.github.io/schema/vega-lite/v3.2.1.json\", \"datasets\": {\"data-133685cdb569d601b8986445ade94da2\": [{\"features\": \"health_status\", \"importances\": 982.8342749539165}, {\"features\": \"high_blood_pressure\", \"importances\": 654.5212276661497}, {\"features\": \"oxygen_max\", \"importances\": 617.6391218160308}, {\"features\": \"functional_capacity\", \"importances\": 617.6206973928229}, {\"features\": \"high_cholesterol\", \"importances\": 521.5655204781591}, {\"features\": \"age_group_65_or_older\", \"importances\": 478.59920741760146}, {\"features\": \"arthritis\", \"importances\": 268.2859618030807}, {\"features\": \"gender\", \"importances\": 149.98064838001596}, {\"features\": \"age_group_35_to_44\", \"importances\": 115.13911102821497}, {\"features\": \"age_group_25_to_34\", \"importances\": 103.97169112883819}]}};\n",
       "var opt = {};\n",
       "var type = \"vega-lite\";\n",
       "var id = \"0ace1a85-0803-4bdc-8174-142e768e2228\";\n",
       "\n",
       "var output_area = this;\n",
       "\n",
       "require([\"nbextensions/jupyter-vega/index\"], function(vega) {\n",
       "  var target = document.createElement(\"div\");\n",
       "  target.id = id;\n",
       "  target.className = \"vega-embed\";\n",
       "\n",
       "  var style = document.createElement(\"style\");\n",
       "  style.textContent = [\n",
       "    \".vega-embed .error p {\",\n",
       "    \"  color: firebrick;\",\n",
       "    \"  font-size: 14px;\",\n",
       "    \"}\",\n",
       "  ].join(\"\\\\n\");\n",
       "\n",
       "  // element is a jQuery wrapped DOM element inside the output area\n",
       "  // see http://ipython.readthedocs.io/en/stable/api/generated/\\\n",
       "  // IPython.display.html#IPython.display.Javascript.__init__\n",
       "  element[0].appendChild(target);\n",
       "  element[0].appendChild(style);\n",
       "\n",
       "  vega.render(\"#\" + id, spec, type, opt, output_area);\n",
       "}, function (err) {\n",
       "  if (err.requireType !== \"scripterror\") {\n",
       "    throw(err);\n",
       "  }\n",
       "});\n"
      ],
      "text/plain": [
       "<vega.vegalite.VegaLite at 0x1d250b1cba8>"
      ]
     },
     "metadata": {
      "jupyter-vega": "#0ace1a85-0803-4bdc-8174-142e768e2228"
     },
     "output_type": "display_data"
    },
    {
     "data": {
      "image/png": "[encoded data removed]"
     },
     "metadata": {
      "jupyter-vega": "#0ace1a85-0803-4bdc-8174-142e768e2228"
     },
     "output_type": "display_data"
    },
    {
     "data": {
      "text/plain": []
     },
     "execution_count": 21,
     "metadata": {},
     "output_type": "execute_result"
    }
   ],
   "source": [
    "plot_imp(best_features_fscore, feature_importances_fscore, 'F-Score', 'darkblue')"
   ]
  },
  {
   "cell_type": "code",
   "execution_count": 22,
   "metadata": {},
   "outputs": [
    {
     "data": {
      "text/plain": [
       "(21725, 10)"
      ]
     },
     "execution_count": 22,
     "metadata": {},
     "output_type": "execute_result"
    }
   ],
   "source": [
    "Data[:, fs_indices_fscore].shape"
   ]
  },
  {
   "cell_type": "code",
   "execution_count": 23,
   "metadata": {},
   "outputs": [
    {
     "data": {
      "text/plain": [
       "0.902"
      ]
     },
     "execution_count": 23,
     "metadata": {},
     "output_type": "execute_result"
    }
   ],
   "source": [
    "cv_results_fscore = cross_val_score(estimator=clfr,\n",
    "                             X=Data[:, fs_indices_fscore],\n",
    "                             y=target, \n",
    "                             cv=cv_method, \n",
    "                             scoring=scoring_metric)\n",
    "cv_results_fscore.mean().round(3)"
   ]
  },
  {
   "cell_type": "markdown",
   "metadata": {},
   "source": [
    "#### Using Mutual Information\n",
    "There are six features that are standing out in importance using mutual information:\n",
    "* health status, \n",
    "* oxygen max, \n",
    "* functional capacity,\n",
    "* high blood pressure, \n",
    "* age group 65 or older, and\n",
    "* high cholesterol.\n",
    "\n",
    "These are the same best six features that were selected using the F-score method. Accuracy performance is equal to 90.1%."
   ]
  },
  {
   "cell_type": "code",
   "execution_count": 24,
   "metadata": {},
   "outputs": [],
   "source": [
    "# number of features to be selected\n",
    "num_features = 6"
   ]
  },
  {
   "cell_type": "code",
   "execution_count": 25,
   "metadata": {},
   "outputs": [
    {
     "data": {
      "text/plain": [
       "array(['oxygen_max', 'functional_capacity', 'health_status',\n",
       "       'high_blood_pressure', 'age_group_65_or_older', 'high_cholesterol'],\n",
       "      dtype=object)"
      ]
     },
     "execution_count": 25,
     "metadata": {},
     "output_type": "execute_result"
    }
   ],
   "source": [
    "fs_fit_mutual_info = fs.SelectKBest(fs.mutual_info_classif, k=num_features)\n",
    "fs_fit_mutual_info.fit_transform(Data, target)\n",
    "fs_indices_mutual_info = np.argsort(fs_fit_mutual_info.scores_)[::-1][0:num_features]\n",
    "best_features_mutual_info = df.columns[fs_indices_mutual_info].values\n",
    "best_features_mutual_info"
   ]
  },
  {
   "cell_type": "code",
   "execution_count": 26,
   "metadata": {},
   "outputs": [
    {
     "data": {
      "text/plain": [
       "array([0.02282094, 0.02136358, 0.02087053, 0.01579164, 0.01145473,\n",
       "       0.01144463])"
      ]
     },
     "execution_count": 26,
     "metadata": {},
     "output_type": "execute_result"
    }
   ],
   "source": [
    "feature_importances_mutual_info = fs_fit_mutual_info.scores_[fs_indices_mutual_info]\n",
    "feature_importances_mutual_info"
   ]
  },
  {
   "cell_type": "code",
   "execution_count": 27,
   "metadata": {},
   "outputs": [
    {
     "data": {
      "application/javascript": [
       "var spec = {\"config\": {\"view\": {\"width\": 400, \"height\": 300}, \"mark\": {\"tooltip\": null}}, \"data\": {\"name\": \"data-f62ae3e383a95299c93ed54167fd2bb9\"}, \"mark\": {\"type\": \"bar\", \"color\": \"darkblue\", \"opacity\": 0.75}, \"encoding\": {\"x\": {\"type\": \"nominal\", \"axis\": {\"labelAngle\": 45}, \"field\": \"features\", \"sort\": null, \"title\": \"Feature\"}, \"y\": {\"type\": \"quantitative\", \"field\": \"importances\", \"title\": \"Importance\"}}, \"title\": \"Mutual Information Feature Importances\", \"width\": 500, \"$schema\": \"https://vega.github.io/schema/vega-lite/v3.2.1.json\", \"datasets\": {\"data-f62ae3e383a95299c93ed54167fd2bb9\": [{\"features\": \"oxygen_max\", \"importances\": 0.02282094278644009}, {\"features\": \"functional_capacity\", \"importances\": 0.02136357961531843}, {\"features\": \"health_status\", \"importances\": 0.020870532977779854}, {\"features\": \"high_blood_pressure\", \"importances\": 0.015791640317653677}, {\"features\": \"age_group_65_or_older\", \"importances\": 0.01145472993677421}, {\"features\": \"high_cholesterol\", \"importances\": 0.0114446300302673}]}};\n",
       "var opt = {};\n",
       "var type = \"vega-lite\";\n",
       "var id = \"3a82933a-d980-4d7c-8436-ef2116dc2e02\";\n",
       "\n",
       "var output_area = this;\n",
       "\n",
       "require([\"nbextensions/jupyter-vega/index\"], function(vega) {\n",
       "  var target = document.createElement(\"div\");\n",
       "  target.id = id;\n",
       "  target.className = \"vega-embed\";\n",
       "\n",
       "  var style = document.createElement(\"style\");\n",
       "  style.textContent = [\n",
       "    \".vega-embed .error p {\",\n",
       "    \"  color: firebrick;\",\n",
       "    \"  font-size: 14px;\",\n",
       "    \"}\",\n",
       "  ].join(\"\\\\n\");\n",
       "\n",
       "  // element is a jQuery wrapped DOM element inside the output area\n",
       "  // see http://ipython.readthedocs.io/en/stable/api/generated/\\\n",
       "  // IPython.display.html#IPython.display.Javascript.__init__\n",
       "  element[0].appendChild(target);\n",
       "  element[0].appendChild(style);\n",
       "\n",
       "  vega.render(\"#\" + id, spec, type, opt, output_area);\n",
       "}, function (err) {\n",
       "  if (err.requireType !== \"scripterror\") {\n",
       "    throw(err);\n",
       "  }\n",
       "});\n"
      ],
      "text/plain": [
       "<vega.vegalite.VegaLite at 0x1d24cb8add8>"
      ]
     },
     "metadata": {
      "jupyter-vega": "#3a82933a-d980-4d7c-8436-ef2116dc2e02"
     },
     "output_type": "display_data"
    },
    {
     "data": {
      "text/plain": []
     },
     "execution_count": 27,
     "metadata": {},
     "output_type": "execute_result"
    },
    {
     "data": {
      "image/png": "[encoded data removed]"
     },
     "metadata": {
      "jupyter-vega": "#3a82933a-d980-4d7c-8436-ef2116dc2e02"
     },
     "output_type": "display_data"
    }
   ],
   "source": [
    "plot_imp(best_features_mutual_info, \n",
    "         feature_importances_mutual_info, 'Mutual Information', 'darkblue')"
   ]
  },
  {
   "cell_type": "code",
   "execution_count": 28,
   "metadata": {},
   "outputs": [
    {
     "data": {
      "text/plain": [
       "0.9"
      ]
     },
     "execution_count": 28,
     "metadata": {},
     "output_type": "execute_result"
    }
   ],
   "source": [
    "cv_results_mutual_info = cross_val_score(estimator=clfr,\n",
    "                             X=Data[:, fs_indices_mutual_info],\n",
    "                             y=target, \n",
    "                             cv=cv_method, \n",
    "                             scoring=scoring_metric)\n",
    "cv_results_mutual_info.mean().round(3)"
   ]
  },
  {
   "cell_type": "markdown",
   "metadata": {},
   "source": [
    "#### Using Random Forest Importance\n",
    "There are five features that are selected using Random Forest Importance with 100 trees:\n",
    "* weight, \n",
    "* oxygen max,  \n",
    "* functional capacity,  \n",
    "* height, and\n",
    "* health status.\n",
    "\n",
    "Accuracy performance: 90%."
   ]
  },
  {
   "cell_type": "code",
   "execution_count": 29,
   "metadata": {},
   "outputs": [],
   "source": [
    "# number of features to be selected\n",
    "num_features = 5"
   ]
  },
  {
   "cell_type": "code",
   "execution_count": 30,
   "metadata": {},
   "outputs": [
    {
     "data": {
      "text/plain": [
       "array(['weight', 'oxygen_max', 'functional_capacity', 'height',\n",
       "       'health_status'], dtype=object)"
      ]
     },
     "execution_count": 30,
     "metadata": {},
     "output_type": "execute_result"
    }
   ],
   "source": [
    "from sklearn.ensemble import RandomForestClassifier\n",
    "\n",
    "model_rfi = RandomForestClassifier(n_estimators=100)\n",
    "model_rfi.fit(Data, target)\n",
    "fs_indices_rfi = np.argsort(model_rfi.feature_importances_)[::-1][0:num_features]\n",
    "\n",
    "best_features_rfi = df.columns[fs_indices_rfi].values\n",
    "best_features_rfi"
   ]
  },
  {
   "cell_type": "code",
   "execution_count": 31,
   "metadata": {},
   "outputs": [
    {
     "data": {
      "text/plain": [
       "array([0.11910816, 0.09657687, 0.0952538 , 0.09165441, 0.07285325])"
      ]
     },
     "execution_count": 31,
     "metadata": {},
     "output_type": "execute_result"
    }
   ],
   "source": [
    "feature_importances_rfi = model_rfi.feature_importances_[fs_indices_rfi]\n",
    "feature_importances_rfi"
   ]
  },
  {
   "cell_type": "code",
   "execution_count": 32,
   "metadata": {},
   "outputs": [
    {
     "data": {
      "application/javascript": [
       "var spec = {\"config\": {\"view\": {\"width\": 400, \"height\": 300}, \"mark\": {\"tooltip\": null}}, \"data\": {\"name\": \"data-ee37bde2626ade127c7966bf140b14c9\"}, \"mark\": {\"type\": \"bar\", \"color\": \"green\", \"opacity\": 0.75}, \"encoding\": {\"x\": {\"type\": \"nominal\", \"axis\": {\"labelAngle\": 45}, \"field\": \"features\", \"sort\": null, \"title\": \"Feature\"}, \"y\": {\"type\": \"quantitative\", \"field\": \"importances\", \"title\": \"Importance\"}}, \"title\": \"Random Forest Feature Importances\", \"width\": 500, \"$schema\": \"https://vega.github.io/schema/vega-lite/v3.2.1.json\", \"datasets\": {\"data-ee37bde2626ade127c7966bf140b14c9\": [{\"features\": \"weight\", \"importances\": 0.11910816069895326}, {\"features\": \"oxygen_max\", \"importances\": 0.09657687495360577}, {\"features\": \"functional_capacity\", \"importances\": 0.09525380098155624}, {\"features\": \"height\", \"importances\": 0.09165441274196777}, {\"features\": \"health_status\", \"importances\": 0.0728532470670424}]}};\n",
       "var opt = {};\n",
       "var type = \"vega-lite\";\n",
       "var id = \"85829254-40a3-4451-8bfe-e604783ddbd5\";\n",
       "\n",
       "var output_area = this;\n",
       "\n",
       "require([\"nbextensions/jupyter-vega/index\"], function(vega) {\n",
       "  var target = document.createElement(\"div\");\n",
       "  target.id = id;\n",
       "  target.className = \"vega-embed\";\n",
       "\n",
       "  var style = document.createElement(\"style\");\n",
       "  style.textContent = [\n",
       "    \".vega-embed .error p {\",\n",
       "    \"  color: firebrick;\",\n",
       "    \"  font-size: 14px;\",\n",
       "    \"}\",\n",
       "  ].join(\"\\\\n\");\n",
       "\n",
       "  // element is a jQuery wrapped DOM element inside the output area\n",
       "  // see http://ipython.readthedocs.io/en/stable/api/generated/\\\n",
       "  // IPython.display.html#IPython.display.Javascript.__init__\n",
       "  element[0].appendChild(target);\n",
       "  element[0].appendChild(style);\n",
       "\n",
       "  vega.render(\"#\" + id, spec, type, opt, output_area);\n",
       "}, function (err) {\n",
       "  if (err.requireType !== \"scripterror\") {\n",
       "    throw(err);\n",
       "  }\n",
       "});\n"
      ],
      "text/plain": [
       "<vega.vegalite.VegaLite at 0x1d250d01828>"
      ]
     },
     "metadata": {
      "jupyter-vega": "#85829254-40a3-4451-8bfe-e604783ddbd5"
     },
     "output_type": "display_data"
    },
    {
     "data": {
      "text/plain": []
     },
     "execution_count": 32,
     "metadata": {},
     "output_type": "execute_result"
    },
    {
     "data": {
      "image/png": "[encoded data removed]"
     },
     "metadata": {
      "jupyter-vega": "#85829254-40a3-4451-8bfe-e604783ddbd5"
     },
     "output_type": "display_data"
    }
   ],
   "source": [
    "plot_imp(best_features_rfi, feature_importances_rfi, 'Random Forest', 'green')"
   ]
  },
  {
   "cell_type": "code",
   "execution_count": 33,
   "metadata": {},
   "outputs": [
    {
     "data": {
      "text/plain": [
       "0.9"
      ]
     },
     "execution_count": 33,
     "metadata": {},
     "output_type": "execute_result"
    }
   ],
   "source": [
    "cv_results_rfi = cross_val_score(estimator=clfr,\n",
    "                             X=Data[:, fs_indices_rfi],\n",
    "                             y=target, \n",
    "                             cv=cv_method, \n",
    "                             scoring=scoring_metric)\n",
    "cv_results_rfi.mean().round(3)"
   ]
  },
  {
   "cell_type": "markdown",
   "metadata": {},
   "source": [
    "### Sampling and Splitting\n",
    "The preprocessed dataset has about 20 thousand rows. In order to test our algorithms, we split the dataset into a training sample and a test sample with a 70%:30% ratio using stratification."
   ]
  },
  {
   "cell_type": "code",
   "execution_count": 35,
   "metadata": {},
   "outputs": [
    {
     "name": "stdout",
     "output_type": "stream",
     "text": [
      "(21725, 76)\n",
      "(15207, 76)\n",
      "(6518, 76)\n"
     ]
    }
   ],
   "source": [
    "print(Data.shape)\n",
    "\n",
    "from sklearn.model_selection import train_test_split\n",
    "\n",
    "Data_train, Data_test, \\\n",
    "target_train, target_test = train_test_split(Data, target, \n",
    "                                                    test_size = 0.3, random_state=999,\n",
    "                                                    stratify = target)\n",
    "\n",
    "print(Data_train.shape)\n",
    "print(Data_test.shape)"
   ]
  },
  {
   "cell_type": "markdown",
   "metadata": {},
   "source": [
    "### Model Evaluation Strategy\n",
    "For each model, we will use 5-fold stratified cross-validation evaluation method with 2 repeats for hyperparameter tuning."
   ]
  },
  {
   "cell_type": "code",
   "execution_count": 36,
   "metadata": {},
   "outputs": [],
   "source": [
    "from sklearn.model_selection import RepeatedStratifiedKFold, GridSearchCV\n",
    "\n",
    "cv_method = RepeatedStratifiedKFold(n_repeats = 2,\n",
    "                                    n_splits = 5, \n",
    "                                    random_state=999)"
   ]
  },
  {
   "cell_type": "markdown",
   "metadata": {},
   "source": [
    "## Hyperparameter Tuning"
   ]
  },
  {
   "cell_type": "markdown",
   "metadata": {},
   "source": [
    "### K-Nearest Neighbors (KNN)\n",
    "The KNN algorithm uses two hyperparameters: the number of neighbors (n_neighbors) and the distance metric (p). Using a pipeline, feature selection is included when searching for the KNN hyperparameters. In the class below, feature selection using the Random Forest Importance (RFI) filtering method is defined as a step to the pipeline. "
   ]
  },
  {
   "cell_type": "code",
   "execution_count": 37,
   "metadata": {},
   "outputs": [],
   "source": [
    "from sklearn.base import BaseEstimator, TransformerMixin\n",
    "\n",
    "# custom function for RFI feature selection inside a pipeline\n",
    "# here we use n_estimators=100\n",
    "class RFIFeatureSelector(BaseEstimator, TransformerMixin):\n",
    "    \n",
    "    # class constructor \n",
    "    # make sure class attributes end with a \"_\"\n",
    "    # per scikit-learn convention to avoid errors\n",
    "    def __init__(self, n_features_=5):\n",
    "        self.n_features_ = n_features_\n",
    "        self.fs_indices_ = None\n",
    "\n",
    "    # override the fit function\n",
    "    def fit(self, X, y):\n",
    "        from sklearn.ensemble import RandomForestClassifier\n",
    "        from numpy import argsort\n",
    "        model_rfi = RandomForestClassifier(n_estimators=100)\n",
    "        model_rfi.fit(X, y)\n",
    "        self.fs_indices_ = argsort(model_rfi.feature_importances_)[::-1][0:self.n_features_] \n",
    "        return self \n",
    "    \n",
    "    # override the transform function\n",
    "    def transform(self, X, y=None):\n",
    "        return X[:, self.fs_indices_]"
   ]
  },
  {
   "cell_type": "markdown",
   "metadata": {},
   "source": [
    "For the scoring method we use recall to put more emphasis on true positive predictions. From our initial feature selection analysis, we saw that there are around six features that are more informative than others. In the KNN-algorithm we will therefore test for three to seven features. The number of neighbors will be kept low, since the feature space is dominated by negative target values ('no heart attack'). "
   ]
  },
  {
   "cell_type": "code",
   "execution_count": 38,
   "metadata": {},
   "outputs": [],
   "source": [
    "from sklearn.pipeline import Pipeline\n",
    "from sklearn.neighbors import KNeighborsClassifier\n",
    "\n",
    "pipe_KNN = Pipeline(steps=[('rfi_fs', RFIFeatureSelector()), \n",
    "                           ('knn', KNeighborsClassifier())])\n",
    "\n",
    "params_pipe_KNN = {'rfi_fs__n_features_': [3, 4, 5, 6, 7],\n",
    "                   'knn__n_neighbors': [1, 2, 3, 4, 5],\n",
    "                   'knn__p': [1, 2]}\n",
    "\n",
    "gs_pipe_KNN = GridSearchCV(estimator=pipe_KNN, \n",
    "                           param_grid=params_pipe_KNN, \n",
    "                           cv=cv_method,\n",
    "                           refit=True,\n",
    "                           n_jobs=-2,\n",
    "                           scoring='recall', ## puts more emphasis on getting positives correct\n",
    "                           verbose=1)"
   ]
  },
  {
   "cell_type": "code",
   "execution_count": 39,
   "metadata": {},
   "outputs": [
    {
     "name": "stdout",
     "output_type": "stream",
     "text": [
      "Fitting 10 folds for each of 50 candidates, totalling 500 fits\n"
     ]
    },
    {
     "name": "stderr",
     "output_type": "stream",
     "text": [
      "[Parallel(n_jobs=-2)]: Using backend LokyBackend with 7 concurrent workers.\n",
      "[Parallel(n_jobs=-2)]: Done  36 tasks      | elapsed:   26.4s\n",
      "[Parallel(n_jobs=-2)]: Done 186 tasks      | elapsed:  1.6min\n",
      "[Parallel(n_jobs=-2)]: Done 436 tasks      | elapsed:  3.6min\n",
      "[Parallel(n_jobs=-2)]: Done 500 out of 500 | elapsed:  4.2min finished\n"
     ]
    },
    {
     "data": {
      "text/plain": [
       "GridSearchCV(cv=<sklearn.model_selection._split.RepeatedStratifiedKFold object at 0x000001D25141D978>,\n",
       "       error_score='raise-deprecating',\n",
       "       estimator=Pipeline(memory=None,\n",
       "     steps=[('rfi_fs', RFIFeatureSelector(n_features_=5)), ('knn', KNeighborsClassifier(algorithm='auto', leaf_size=30, metric='minkowski',\n",
       "           metric_params=None, n_jobs=None, n_neighbors=5, p=2,\n",
       "           weights='uniform'))]),\n",
       "       fit_params=None, iid='warn', n_jobs=-2,\n",
       "       param_grid={'rfi_fs__n_features_': [3, 4, 5, 6, 7], 'knn__n_neighbors': [1, 2, 3, 4, 5], 'knn__p': [1, 2]},\n",
       "       pre_dispatch='2*n_jobs', refit=True, return_train_score='warn',\n",
       "       scoring='recall', verbose=1)"
      ]
     },
     "execution_count": 39,
     "metadata": {},
     "output_type": "execute_result"
    }
   ],
   "source": [
    "gs_pipe_KNN.fit(Data_train, target_train)"
   ]
  },
  {
   "cell_type": "code",
   "execution_count": 40,
   "metadata": {},
   "outputs": [
    {
     "data": {
      "text/plain": [
       "{'knn__n_neighbors': 1, 'knn__p': 1, 'rfi_fs__n_features_': 5}"
      ]
     },
     "execution_count": 40,
     "metadata": {},
     "output_type": "execute_result"
    }
   ],
   "source": [
    "gs_pipe_KNN.best_params_"
   ]
  },
  {
   "cell_type": "code",
   "execution_count": 41,
   "metadata": {},
   "outputs": [
    {
     "data": {
      "text/plain": [
       "0.16017641325642296"
      ]
     },
     "execution_count": 41,
     "metadata": {},
     "output_type": "execute_result"
    }
   ],
   "source": [
    "gs_pipe_KNN.best_score_"
   ]
  },
  {
   "cell_type": "markdown",
   "metadata": {},
   "source": [
    "We observe that the best KNN model selected 5 features with one nearest neighbor using the Manhattan distance (p=1). The recall score of this model is still only 0.160, which is kind of dissapointing. Below we look further into how this model performs on our test data."
   ]
  },
  {
   "cell_type": "code",
   "execution_count": 42,
   "metadata": {},
   "outputs": [],
   "source": [
    "t_pred = gs_pipe_KNN.best_estimator_.predict(Data_test)"
   ]
  },
  {
   "cell_type": "code",
   "execution_count": 43,
   "metadata": {},
   "outputs": [
    {
     "name": "stdout",
     "output_type": "stream",
     "text": [
      "              precision    recall  f1-score   support\n",
      "\n",
      "         0.0       0.95      0.94      0.94      6132\n",
      "         1.0       0.14      0.14      0.14       386\n",
      "\n",
      "   micro avg       0.90      0.90      0.90      6518\n",
      "   macro avg       0.54      0.54      0.54      6518\n",
      "weighted avg       0.90      0.90      0.90      6518\n",
      "\n"
     ]
    }
   ],
   "source": [
    "from sklearn.metrics import classification_report\n",
    "\n",
    "report = classification_report(target_test, t_pred)\n",
    "print(report)"
   ]
  },
  {
   "cell_type": "code",
   "execution_count": 44,
   "metadata": {},
   "outputs": [
    {
     "name": "stdout",
     "output_type": "stream",
     "text": [
      "[[5785  347]\n",
      " [ 331   55]]\n"
     ]
    }
   ],
   "source": [
    "from sklearn.metrics import confusion_matrix\n",
    "\n",
    "matrix = confusion_matrix(target_test, t_pred)\n",
    "print(matrix)"
   ]
  },
  {
   "cell_type": "markdown",
   "metadata": {},
   "source": [
    "Using a classification report and confusion matrix we see that this model has difficulty predicting those with a heart attack. In this situation it would be much more beneficial to be accurate on those with a heart attack, even if this means getting slightly more false positives. Below we attempt to influence our model by creating data with artificially increased numbers of heart attacks."
   ]
  },
  {
   "cell_type": "markdown",
   "metadata": {},
   "source": [
    "We make a new split for our training and test data. After splitting our data, we use all of the instances of those with a heart atack and only enough of those without to achieve a 20% rate of reporting a heart attack in our training data."
   ]
  },
  {
   "cell_type": "code",
   "execution_count": 45,
   "metadata": {},
   "outputs": [],
   "source": [
    "df_weighted = df.sample(n=15207, random_state=9)\n",
    "df_weighted_test = df.drop(df_weighted.index.values, axis=0)"
   ]
  },
  {
   "cell_type": "code",
   "execution_count": 46,
   "metadata": {},
   "outputs": [
    {
     "name": "stdout",
     "output_type": "stream",
     "text": [
      "(891, 77)\n",
      "(14316, 77)\n"
     ]
    }
   ],
   "source": [
    "df_weighted_yes = df_weighted.loc[df_weighted['y_heart_attack']==1]\n",
    "df_weighted_no = df_weighted.loc[df_weighted['y_heart_attack']==0]\n",
    "print(df_weighted_yes.shape)\n",
    "print(df_weighted_no.shape)"
   ]
  },
  {
   "cell_type": "code",
   "execution_count": 47,
   "metadata": {},
   "outputs": [],
   "source": [
    "df_weighted_train = df_weighted_no.sample(n=3574, random_state=87).append(df_weighted_yes)"
   ]
  },
  {
   "cell_type": "code",
   "execution_count": 48,
   "metadata": {},
   "outputs": [],
   "source": [
    "Data_weighted_train = np.array(df_weighted_train.drop(columns='y_heart_attack'))\n",
    "target_weighted_train = np.array(df_weighted_train['y_heart_attack'])\n",
    "\n",
    "Data_weighted_test = np.array(df_weighted_test.drop(columns='y_heart_attack'))\n",
    "target_weighted_test = np.array(df_weighted_test['y_heart_attack'])"
   ]
  },
  {
   "cell_type": "markdown",
   "metadata": {},
   "source": [
    "We use the same pipeline as earlier, but this time on our weighted training data."
   ]
  },
  {
   "cell_type": "code",
   "execution_count": 49,
   "metadata": {},
   "outputs": [],
   "source": [
    "from sklearn.pipeline import Pipeline\n",
    "from sklearn.neighbors import KNeighborsClassifier\n",
    "\n",
    "pipe_KNN_weighted = Pipeline(steps=[('rfi_fs', RFIFeatureSelector()), \n",
    "                           ('knn', KNeighborsClassifier())])\n",
    "\n",
    "params_pipe_KNN_weighted = {'rfi_fs__n_features_': [3, 4, 5, 6, 7],\n",
    "                   'knn__n_neighbors': [1, 2, 3, 4, 5],\n",
    "                   'knn__p': [1, 2]}\n",
    "\n",
    "gs_pipe_KNN_weighted = GridSearchCV(estimator=pipe_KNN_weighted, \n",
    "                           param_grid=params_pipe_KNN_weighted, \n",
    "                           cv=cv_method,\n",
    "                           refit=True,\n",
    "                           n_jobs=-2,\n",
    "                           scoring='recall', ## puts more emphasis on getting positives correct\n",
    "                           verbose=1)"
   ]
  },
  {
   "cell_type": "code",
   "execution_count": 50,
   "metadata": {},
   "outputs": [
    {
     "name": "stdout",
     "output_type": "stream",
     "text": [
      "Fitting 10 folds for each of 50 candidates, totalling 500 fits\n"
     ]
    },
    {
     "name": "stderr",
     "output_type": "stream",
     "text": [
      "[Parallel(n_jobs=-2)]: Using backend LokyBackend with 7 concurrent workers.\n",
      "[Parallel(n_jobs=-2)]: Done  36 tasks      | elapsed:    5.5s\n",
      "[Parallel(n_jobs=-2)]: Done 186 tasks      | elapsed:   27.0s\n",
      "[Parallel(n_jobs=-2)]: Done 436 tasks      | elapsed:  1.1min\n",
      "[Parallel(n_jobs=-2)]: Done 500 out of 500 | elapsed:  1.2min finished\n"
     ]
    },
    {
     "data": {
      "text/plain": [
       "GridSearchCV(cv=<sklearn.model_selection._split.RepeatedStratifiedKFold object at 0x000001D25141D978>,\n",
       "       error_score='raise-deprecating',\n",
       "       estimator=Pipeline(memory=None,\n",
       "     steps=[('rfi_fs', RFIFeatureSelector(n_features_=5)), ('knn', KNeighborsClassifier(algorithm='auto', leaf_size=30, metric='minkowski',\n",
       "           metric_params=None, n_jobs=None, n_neighbors=5, p=2,\n",
       "           weights='uniform'))]),\n",
       "       fit_params=None, iid='warn', n_jobs=-2,\n",
       "       param_grid={'rfi_fs__n_features_': [3, 4, 5, 6, 7], 'knn__n_neighbors': [1, 2, 3, 4, 5], 'knn__p': [1, 2]},\n",
       "       pre_dispatch='2*n_jobs', refit=True, return_train_score='warn',\n",
       "       scoring='recall', verbose=1)"
      ]
     },
     "execution_count": 50,
     "metadata": {},
     "output_type": "execute_result"
    }
   ],
   "source": [
    "gs_pipe_KNN_weighted.fit(Data_weighted_train, target_weighted_train)"
   ]
  },
  {
   "cell_type": "code",
   "execution_count": 51,
   "metadata": {},
   "outputs": [
    {
     "data": {
      "text/plain": [
       "{'knn__n_neighbors': 1, 'knn__p': 1, 'rfi_fs__n_features_': 4}"
      ]
     },
     "execution_count": 51,
     "metadata": {},
     "output_type": "execute_result"
    }
   ],
   "source": [
    "gs_pipe_KNN_weighted.best_params_"
   ]
  },
  {
   "cell_type": "code",
   "execution_count": 52,
   "metadata": {},
   "outputs": [
    {
     "data": {
      "text/plain": [
       "0.34905236981177856"
      ]
     },
     "execution_count": 52,
     "metadata": {},
     "output_type": "execute_result"
    }
   ],
   "source": [
    "gs_pipe_KNN_weighted.best_score_"
   ]
  },
  {
   "cell_type": "markdown",
   "metadata": {},
   "source": [
    "Adding more positive instances to the training data helped getting a higher recall score of 0.349. It is still a low score, but a huge improvement compared to the score using the normal training data. Using the weighted training data, the model is using four features with one nearest neighbour and using the Manhattan distance (p=1)."
   ]
  },
  {
   "cell_type": "code",
   "execution_count": 53,
   "metadata": {},
   "outputs": [],
   "source": [
    "t_pred = gs_pipe_KNN_weighted.best_estimator_.predict(Data_weighted_test)"
   ]
  },
  {
   "cell_type": "code",
   "execution_count": 54,
   "metadata": {},
   "outputs": [
    {
     "name": "stdout",
     "output_type": "stream",
     "text": [
      "              precision    recall  f1-score   support\n",
      "\n",
      "         0.0       0.95      0.84      0.89      6121\n",
      "         1.0       0.13      0.39      0.20       397\n",
      "\n",
      "   micro avg       0.81      0.81      0.81      6518\n",
      "   macro avg       0.54      0.61      0.55      6518\n",
      "weighted avg       0.90      0.81      0.85      6518\n",
      "\n"
     ]
    }
   ],
   "source": [
    "from sklearn.metrics import classification_report\n",
    "\n",
    "report_weighted = classification_report(target_weighted_test, t_pred)\n",
    "print(report_weighted)"
   ]
  },
  {
   "cell_type": "code",
   "execution_count": 55,
   "metadata": {},
   "outputs": [
    {
     "name": "stdout",
     "output_type": "stream",
     "text": [
      "[[5785  347]\n",
      " [ 331   55]]\n",
      "[[5130  991]\n",
      " [ 243  154]]\n"
     ]
    }
   ],
   "source": [
    "from sklearn.metrics import confusion_matrix\n",
    "\n",
    "matrix_weighted = confusion_matrix(target_weighted_test, t_pred)\n",
    "print(matrix)\n",
    "print(matrix_weighted)"
   ]
  },
  {
   "cell_type": "markdown",
   "metadata": {},
   "source": [
    "Looking at the classification report and confusion martrix (with original for easy comparison), we see some improvement to the true positives, without too much of an increase in false positives. The improvement however still leaves much to be desired, as about two thirds of the positives are being classified incorrectly."
   ]
  },
  {
   "cell_type": "markdown",
   "metadata": {},
   "source": [
    "Let's put the results in one visualisation. In order to get the results in one object we use the following function to gather the necessary information."
   ]
  },
  {
   "cell_type": "code",
   "execution_count": 56,
   "metadata": {},
   "outputs": [],
   "source": [
    "def get_search_results(gs):\n",
    "\n",
    "    def model_result(scores, params):\n",
    "        scores = {'mean_score': np.mean(scores),\n",
    "             'std_score': np.std(scores),\n",
    "             'min_score': np.min(scores),\n",
    "             'max_score': np.max(scores)}\n",
    "        return pd.Series({**params,**scores})\n",
    "\n",
    "    models = []\n",
    "    scores = []\n",
    "\n",
    "    for i in range(gs.n_splits_):\n",
    "        key = f\"split{i}_test_score\"\n",
    "        r = gs.cv_results_[key]        \n",
    "        scores.append(r.reshape(-1,1))\n",
    "\n",
    "    all_scores = np.hstack(scores)\n",
    "    for p, s in zip(gs.cv_results_['params'], all_scores):\n",
    "        models.append((model_result(s, p)))\n",
    "\n",
    "    pipe_results = pd.concat(models, axis=1).T.sort_values(['mean_score'], ascending=False)\n",
    "\n",
    "    columns_first = ['mean_score', 'std_score', 'max_score', 'min_score']\n",
    "    columns = columns_first + [c for c in pipe_results.columns if c not in columns_first]\n",
    "\n",
    "    return pipe_results[columns]"
   ]
  },
  {
   "cell_type": "code",
   "execution_count": 57,
   "metadata": {},
   "outputs": [],
   "source": [
    "results_KNN = get_search_results(gs_pipe_KNN)"
   ]
  },
  {
   "cell_type": "code",
   "execution_count": 58,
   "metadata": {},
   "outputs": [],
   "source": [
    "results_KNN_weighted = get_search_results(gs_pipe_KNN_weighted)"
   ]
  },
  {
   "cell_type": "code",
   "execution_count": 59,
   "metadata": {},
   "outputs": [
    {
     "data": {
      "text/html": [
       "<div>\n",
       "<style scoped>\n",
       "    .dataframe tbody tr th:only-of-type {\n",
       "        vertical-align: middle;\n",
       "    }\n",
       "\n",
       "    .dataframe tbody tr th {\n",
       "        vertical-align: top;\n",
       "    }\n",
       "\n",
       "    .dataframe thead th {\n",
       "        text-align: right;\n",
       "    }\n",
       "</style>\n",
       "<table border=\"1\" class=\"dataframe\">\n",
       "  <thead>\n",
       "    <tr style=\"text-align: right;\">\n",
       "      <th></th>\n",
       "      <th>mean_score</th>\n",
       "      <th>std_score</th>\n",
       "      <th>max_score</th>\n",
       "      <th>min_score</th>\n",
       "      <th>knn__n_neighbors</th>\n",
       "      <th>knn__p</th>\n",
       "      <th>rfi_fs__n_features_</th>\n",
       "      <th>type_KNN</th>\n",
       "    </tr>\n",
       "  </thead>\n",
       "  <tbody>\n",
       "    <tr>\n",
       "      <th>2</th>\n",
       "      <td>0.160175</td>\n",
       "      <td>0.025197</td>\n",
       "      <td>0.198895</td>\n",
       "      <td>0.116667</td>\n",
       "      <td>1.0</td>\n",
       "      <td>1.0</td>\n",
       "      <td>5.0</td>\n",
       "      <td>normal_KNN</td>\n",
       "    </tr>\n",
       "    <tr>\n",
       "      <th>3</th>\n",
       "      <td>0.146882</td>\n",
       "      <td>0.021376</td>\n",
       "      <td>0.193370</td>\n",
       "      <td>0.121547</td>\n",
       "      <td>1.0</td>\n",
       "      <td>1.0</td>\n",
       "      <td>6.0</td>\n",
       "      <td>normal_KNN</td>\n",
       "    </tr>\n",
       "    <tr>\n",
       "      <th>4</th>\n",
       "      <td>0.143011</td>\n",
       "      <td>0.020531</td>\n",
       "      <td>0.165746</td>\n",
       "      <td>0.105556</td>\n",
       "      <td>1.0</td>\n",
       "      <td>1.0</td>\n",
       "      <td>7.0</td>\n",
       "      <td>normal_KNN</td>\n",
       "    </tr>\n",
       "    <tr>\n",
       "      <th>0</th>\n",
       "      <td>0.090341</td>\n",
       "      <td>0.030025</td>\n",
       "      <td>0.144444</td>\n",
       "      <td>0.049724</td>\n",
       "      <td>1.0</td>\n",
       "      <td>1.0</td>\n",
       "      <td>3.0</td>\n",
       "      <td>normal_KNN</td>\n",
       "    </tr>\n",
       "    <tr>\n",
       "      <th>24</th>\n",
       "      <td>0.085899</td>\n",
       "      <td>0.023594</td>\n",
       "      <td>0.121547</td>\n",
       "      <td>0.050000</td>\n",
       "      <td>3.0</td>\n",
       "      <td>1.0</td>\n",
       "      <td>7.0</td>\n",
       "      <td>normal_KNN</td>\n",
       "    </tr>\n",
       "  </tbody>\n",
       "</table>\n",
       "</div>"
      ],
      "text/plain": [
       "    mean_score  std_score  max_score  min_score  knn__n_neighbors  knn__p  \\\n",
       "2     0.160175   0.025197   0.198895   0.116667               1.0     1.0   \n",
       "3     0.146882   0.021376   0.193370   0.121547               1.0     1.0   \n",
       "4     0.143011   0.020531   0.165746   0.105556               1.0     1.0   \n",
       "0     0.090341   0.030025   0.144444   0.049724               1.0     1.0   \n",
       "24    0.085899   0.023594   0.121547   0.050000               3.0     1.0   \n",
       "\n",
       "    rfi_fs__n_features_    type_KNN  \n",
       "2                   5.0  normal_KNN  \n",
       "3                   6.0  normal_KNN  \n",
       "4                   7.0  normal_KNN  \n",
       "0                   3.0  normal_KNN  \n",
       "24                  7.0  normal_KNN  "
      ]
     },
     "execution_count": 59,
     "metadata": {},
     "output_type": "execute_result"
    }
   ],
   "source": [
    "results_KNN_features = results_KNN[results_KNN['rfi_fs__n_features_'] == 5.0]\n",
    "results_KNN_features = results_KNN[results_KNN['knn__p'] == 1.0]\n",
    "results_KNN_features = results_KNN_features.assign(type_KNN = \"normal_KNN\")\n",
    "results_KNN_features.head()"
   ]
  },
  {
   "cell_type": "code",
   "execution_count": 60,
   "metadata": {},
   "outputs": [
    {
     "data": {
      "text/html": [
       "<div>\n",
       "<style scoped>\n",
       "    .dataframe tbody tr th:only-of-type {\n",
       "        vertical-align: middle;\n",
       "    }\n",
       "\n",
       "    .dataframe tbody tr th {\n",
       "        vertical-align: top;\n",
       "    }\n",
       "\n",
       "    .dataframe thead th {\n",
       "        text-align: right;\n",
       "    }\n",
       "</style>\n",
       "<table border=\"1\" class=\"dataframe\">\n",
       "  <thead>\n",
       "    <tr style=\"text-align: right;\">\n",
       "      <th></th>\n",
       "      <th>mean_score</th>\n",
       "      <th>std_score</th>\n",
       "      <th>max_score</th>\n",
       "      <th>min_score</th>\n",
       "      <th>knn__n_neighbors</th>\n",
       "      <th>knn__p</th>\n",
       "      <th>rfi_fs__n_features_</th>\n",
       "      <th>type_KNN</th>\n",
       "    </tr>\n",
       "  </thead>\n",
       "  <tbody>\n",
       "    <tr>\n",
       "      <th>1</th>\n",
       "      <td>0.349043</td>\n",
       "      <td>0.043237</td>\n",
       "      <td>0.455056</td>\n",
       "      <td>0.303371</td>\n",
       "      <td>1.0</td>\n",
       "      <td>1.0</td>\n",
       "      <td>4.0</td>\n",
       "      <td>weighted_KNN</td>\n",
       "    </tr>\n",
       "    <tr>\n",
       "      <th>4</th>\n",
       "      <td>0.326034</td>\n",
       "      <td>0.020708</td>\n",
       "      <td>0.382022</td>\n",
       "      <td>0.303371</td>\n",
       "      <td>1.0</td>\n",
       "      <td>1.0</td>\n",
       "      <td>7.0</td>\n",
       "      <td>weighted_KNN</td>\n",
       "    </tr>\n",
       "    <tr>\n",
       "      <th>3</th>\n",
       "      <td>0.312538</td>\n",
       "      <td>0.027463</td>\n",
       "      <td>0.359551</td>\n",
       "      <td>0.269663</td>\n",
       "      <td>1.0</td>\n",
       "      <td>1.0</td>\n",
       "      <td>6.0</td>\n",
       "      <td>weighted_KNN</td>\n",
       "    </tr>\n",
       "    <tr>\n",
       "      <th>2</th>\n",
       "      <td>0.297392</td>\n",
       "      <td>0.027541</td>\n",
       "      <td>0.348315</td>\n",
       "      <td>0.258427</td>\n",
       "      <td>1.0</td>\n",
       "      <td>1.0</td>\n",
       "      <td>5.0</td>\n",
       "      <td>weighted_KNN</td>\n",
       "    </tr>\n",
       "    <tr>\n",
       "      <th>24</th>\n",
       "      <td>0.294583</td>\n",
       "      <td>0.035003</td>\n",
       "      <td>0.342697</td>\n",
       "      <td>0.230337</td>\n",
       "      <td>3.0</td>\n",
       "      <td>1.0</td>\n",
       "      <td>7.0</td>\n",
       "      <td>weighted_KNN</td>\n",
       "    </tr>\n",
       "  </tbody>\n",
       "</table>\n",
       "</div>"
      ],
      "text/plain": [
       "    mean_score  std_score  max_score  min_score  knn__n_neighbors  knn__p  \\\n",
       "1     0.349043   0.043237   0.455056   0.303371               1.0     1.0   \n",
       "4     0.326034   0.020708   0.382022   0.303371               1.0     1.0   \n",
       "3     0.312538   0.027463   0.359551   0.269663               1.0     1.0   \n",
       "2     0.297392   0.027541   0.348315   0.258427               1.0     1.0   \n",
       "24    0.294583   0.035003   0.342697   0.230337               3.0     1.0   \n",
       "\n",
       "    rfi_fs__n_features_      type_KNN  \n",
       "1                   4.0  weighted_KNN  \n",
       "4                   7.0  weighted_KNN  \n",
       "3                   6.0  weighted_KNN  \n",
       "2                   5.0  weighted_KNN  \n",
       "24                  7.0  weighted_KNN  "
      ]
     },
     "execution_count": 60,
     "metadata": {},
     "output_type": "execute_result"
    }
   ],
   "source": [
    "results_KNN_weighted_features = results_KNN_weighted[\n",
    "    results_KNN_weighted['rfi_fs__n_features_'] == 4.0]\n",
    "results_KNN_weighted_features = results_KNN_weighted[\n",
    "    results_KNN_weighted['knn__p'] == 1.0]\n",
    "results_KNN_weighted_features = results_KNN_weighted_features.assign(type_KNN = \"weighted_KNN\")\n",
    "results_KNN_weighted_features.head()"
   ]
  },
  {
   "cell_type": "code",
   "execution_count": 61,
   "metadata": {},
   "outputs": [],
   "source": [
    "results_KNN_combined = pd.concat([results_KNN_weighted_features, results_KNN_features])"
   ]
  },
  {
   "cell_type": "code",
   "execution_count": 62,
   "metadata": {},
   "outputs": [
    {
     "data": {
      "application/javascript": [
       "var spec = {\"config\": {\"view\": {\"width\": 400, \"height\": 300}, \"mark\": {\"tooltip\": null}}, \"data\": {\"name\": \"data-e799cfd9d47f7b2377c7c5780ac6feec\"}, \"mark\": {\"type\": \"line\", \"point\": true}, \"encoding\": {\"color\": {\"type\": \"nominal\", \"field\": \"type_KNN\", \"title\": \"model\"}, \"x\": {\"type\": \"quantitative\", \"field\": \"knn__n_neighbors\", \"title\": \"Number of Neighbors\"}, \"y\": {\"type\": \"quantitative\", \"aggregate\": \"average\", \"field\": \"mean_score\", \"scale\": {\"zero\": false}, \"title\": \"Recall Score\"}}, \"title\": \"KNN Performance Comparison\", \"$schema\": \"https://vega.github.io/schema/vega-lite/v3.2.1.json\", \"datasets\": {\"data-e799cfd9d47f7b2377c7c5780ac6feec\": [{\"mean_score\": 0.3490427468457724, \"std_score\": 0.043237095130667084, \"max_score\": 0.4550561797752809, \"min_score\": 0.30337078651685395, \"knn__n_neighbors\": 1.0, \"knn__p\": 1.0, \"rfi_fs__n_features_\": 4.0, \"type_KNN\": \"weighted_KNN\"}, {\"mean_score\": 0.326034147260059, \"std_score\": 0.020707788287481495, \"max_score\": 0.38202247191011235, \"min_score\": 0.30337078651685395, \"knn__n_neighbors\": 1.0, \"knn__p\": 1.0, \"rfi_fs__n_features_\": 7.0, \"type_KNN\": \"weighted_KNN\"}, {\"mean_score\": 0.31253844705291567, \"std_score\": 0.027463355158398983, \"max_score\": 0.3595505617977528, \"min_score\": 0.2696629213483146, \"knn__n_neighbors\": 1.0, \"knn__p\": 1.0, \"rfi_fs__n_features_\": 6.0, \"type_KNN\": \"weighted_KNN\"}, {\"mean_score\": 0.29739187747159623, \"std_score\": 0.02754143446185973, \"max_score\": 0.34831460674157305, \"min_score\": 0.25842696629213485, \"knn__n_neighbors\": 1.0, \"knn__p\": 1.0, \"rfi_fs__n_features_\": 5.0, \"type_KNN\": \"weighted_KNN\"}, {\"mean_score\": 0.29458288870755134, \"std_score\": 0.03500276744673502, \"max_score\": 0.34269662921348315, \"min_score\": 0.2303370786516854, \"knn__n_neighbors\": 3.0, \"knn__p\": 1.0, \"rfi_fs__n_features_\": 7.0, \"type_KNN\": \"weighted_KNN\"}, {\"mean_score\": 0.28338773460548616, \"std_score\": 0.04704558347070512, \"max_score\": 0.38202247191011235, \"min_score\": 0.21348314606741572, \"knn__n_neighbors\": 1.0, \"knn__p\": 1.0, \"rfi_fs__n_features_\": 3.0, \"type_KNN\": \"weighted_KNN\"}, {\"mean_score\": 0.2715931203314293, \"std_score\": 0.03744085711718948, \"max_score\": 0.34831460674157305, \"min_score\": 0.19662921348314608, \"knn__n_neighbors\": 3.0, \"knn__p\": 1.0, \"rfi_fs__n_features_\": 6.0, \"type_KNN\": \"weighted_KNN\"}, {\"mean_score\": 0.26711443098361676, \"std_score\": 0.037925695095462106, \"max_score\": 0.3595505617977528, \"min_score\": 0.2247191011235955, \"knn__n_neighbors\": 3.0, \"knn__p\": 1.0, \"rfi_fs__n_features_\": 4.0, \"type_KNN\": \"weighted_KNN\"}, {\"mean_score\": 0.25590358420689224, \"std_score\": 0.030151721325607478, \"max_score\": 0.3146067415730337, \"min_score\": 0.19101123595505617, \"knn__n_neighbors\": 5.0, \"knn__p\": 1.0, \"rfi_fs__n_features_\": 7.0, \"type_KNN\": \"weighted_KNN\"}, {\"mean_score\": 0.25474232628209154, \"std_score\": 0.02392512486586042, \"max_score\": 0.28651685393258425, \"min_score\": 0.21910112359550563, \"knn__n_neighbors\": 3.0, \"knn__p\": 1.0, \"rfi_fs__n_features_\": 5.0, \"type_KNN\": \"weighted_KNN\"}, {\"mean_score\": 0.24409955432803968, \"std_score\": 0.02747028674181374, \"max_score\": 0.29775280898876405, \"min_score\": 0.19662921348314608, \"knn__n_neighbors\": 5.0, \"knn__p\": 1.0, \"rfi_fs__n_features_\": 6.0, \"type_KNN\": \"weighted_KNN\"}, {\"mean_score\": 0.2278042809616471, \"std_score\": 0.04176163415833373, \"max_score\": 0.2905027932960894, \"min_score\": 0.16853932584269662, \"knn__n_neighbors\": 3.0, \"knn__p\": 1.0, \"rfi_fs__n_features_\": 3.0, \"type_KNN\": \"weighted_KNN\"}, {\"mean_score\": 0.2250204004770573, \"std_score\": 0.023277831243658086, \"max_score\": 0.25280898876404495, \"min_score\": 0.1797752808988764, \"knn__n_neighbors\": 5.0, \"knn__p\": 1.0, \"rfi_fs__n_features_\": 4.0, \"type_KNN\": \"weighted_KNN\"}, {\"mean_score\": 0.2244648797941121, \"std_score\": 0.03224133834930681, \"max_score\": 0.29213483146067415, \"min_score\": 0.16853932584269662, \"knn__n_neighbors\": 5.0, \"knn__p\": 1.0, \"rfi_fs__n_features_\": 5.0, \"type_KNN\": \"weighted_KNN\"}, {\"mean_score\": 0.21041993597388736, \"std_score\": 0.04742496021657814, \"max_score\": 0.30337078651685395, \"min_score\": 0.14606741573033707, \"knn__n_neighbors\": 5.0, \"knn__p\": 1.0, \"rfi_fs__n_features_\": 3.0, \"type_KNN\": \"weighted_KNN\"}, {\"mean_score\": 0.15152218944196846, \"std_score\": 0.026147129808485804, \"max_score\": 0.21910112359550563, \"min_score\": 0.11797752808988764, \"knn__n_neighbors\": 4.0, \"knn__p\": 1.0, \"rfi_fs__n_features_\": 7.0, \"type_KNN\": \"weighted_KNN\"}, {\"mean_score\": 0.14142238403113425, \"std_score\": 0.017787802821903256, \"max_score\": 0.1853932584269663, \"min_score\": 0.11797752808988764, \"knn__n_neighbors\": 4.0, \"knn__p\": 1.0, \"rfi_fs__n_features_\": 6.0, \"type_KNN\": \"weighted_KNN\"}, {\"mean_score\": 0.13747096855187999, \"std_score\": 0.0240112832944803, \"max_score\": 0.1853932584269663, \"min_score\": 0.10674157303370786, \"knn__n_neighbors\": 2.0, \"knn__p\": 1.0, \"rfi_fs__n_features_\": 7.0, \"type_KNN\": \"weighted_KNN\"}, {\"mean_score\": 0.12794237649865042, \"std_score\": 0.032619155323752334, \"max_score\": 0.21348314606741572, \"min_score\": 0.09550561797752809, \"knn__n_neighbors\": 2.0, \"knn__p\": 1.0, \"rfi_fs__n_features_\": 4.0, \"type_KNN\": \"weighted_KNN\"}, {\"mean_score\": 0.12739313288556903, \"std_score\": 0.02307437135855706, \"max_score\": 0.17415730337078653, \"min_score\": 0.0898876404494382, \"knn__n_neighbors\": 4.0, \"knn__p\": 1.0, \"rfi_fs__n_features_\": 4.0, \"type_KNN\": \"weighted_KNN\"}, {\"mean_score\": 0.1262475676354278, \"std_score\": 0.023504736202545583, \"max_score\": 0.17415730337078653, \"min_score\": 0.10112359550561797, \"knn__n_neighbors\": 2.0, \"knn__p\": 1.0, \"rfi_fs__n_features_\": 6.0, \"type_KNN\": \"weighted_KNN\"}, {\"mean_score\": 0.11728391186993911, \"std_score\": 0.01819349685725948, \"max_score\": 0.15730337078651685, \"min_score\": 0.09550561797752809, \"knn__n_neighbors\": 4.0, \"knn__p\": 1.0, \"rfi_fs__n_features_\": 5.0, \"type_KNN\": \"weighted_KNN\"}, {\"mean_score\": 0.10773335007218629, \"std_score\": 0.01801061991621366, \"max_score\": 0.14606741573033707, \"min_score\": 0.07865168539325842, \"knn__n_neighbors\": 2.0, \"knn__p\": 1.0, \"rfi_fs__n_features_\": 5.0, \"type_KNN\": \"weighted_KNN\"}, {\"mean_score\": 0.1032358295147825, \"std_score\": 0.029528316914746805, \"max_score\": 0.15083798882681565, \"min_score\": 0.056179775280898875, \"knn__n_neighbors\": 4.0, \"knn__p\": 1.0, \"rfi_fs__n_features_\": 3.0, \"type_KNN\": \"weighted_KNN\"}, {\"mean_score\": 0.08865733475613582, \"std_score\": 0.017128660709609222, \"max_score\": 0.11797752808988764, \"min_score\": 0.07303370786516854, \"knn__n_neighbors\": 2.0, \"knn__p\": 1.0, \"rfi_fs__n_features_\": 3.0, \"type_KNN\": \"weighted_KNN\"}, {\"mean_score\": 0.16017495395948436, \"std_score\": 0.02519653375677402, \"max_score\": 0.19889502762430938, \"min_score\": 0.11666666666666667, \"knn__n_neighbors\": 1.0, \"knn__p\": 1.0, \"rfi_fs__n_features_\": 5.0, \"type_KNN\": \"normal_KNN\"}, {\"mean_score\": 0.14688152240638425, \"std_score\": 0.021375920308844512, \"max_score\": 0.19337016574585636, \"min_score\": 0.12154696132596685, \"knn__n_neighbors\": 1.0, \"knn__p\": 1.0, \"rfi_fs__n_features_\": 6.0, \"type_KNN\": \"normal_KNN\"}, {\"mean_score\": 0.14301104972375692, \"std_score\": 0.020530702347540206, \"max_score\": 0.16574585635359115, \"min_score\": 0.10555555555555556, \"knn__n_neighbors\": 1.0, \"knn__p\": 1.0, \"rfi_fs__n_features_\": 7.0, \"type_KNN\": \"normal_KNN\"}, {\"mean_score\": 0.09034069981583794, \"std_score\": 0.030024749012198614, \"max_score\": 0.14444444444444443, \"min_score\": 0.049723756906077346, \"knn__n_neighbors\": 1.0, \"knn__p\": 1.0, \"rfi_fs__n_features_\": 3.0, \"type_KNN\": \"normal_KNN\"}, {\"mean_score\": 0.08589932473910374, \"std_score\": 0.023594036928893787, \"max_score\": 0.12154696132596685, \"min_score\": 0.05, \"knn__n_neighbors\": 3.0, \"knn__p\": 1.0, \"rfi_fs__n_features_\": 7.0, \"type_KNN\": \"normal_KNN\"}, {\"mean_score\": 0.08371393492940453, \"std_score\": 0.015257049801032143, \"max_score\": 0.12777777777777777, \"min_score\": 0.0718232044198895, \"knn__n_neighbors\": 1.0, \"knn__p\": 1.0, \"rfi_fs__n_features_\": 4.0, \"type_KNN\": \"normal_KNN\"}, {\"mean_score\": 0.07594843462246778, \"std_score\": 0.02087914773429067, \"max_score\": 0.11049723756906077, \"min_score\": 0.03314917127071823, \"knn__n_neighbors\": 3.0, \"knn__p\": 1.0, \"rfi_fs__n_features_\": 6.0, \"type_KNN\": \"normal_KNN\"}, {\"mean_score\": 0.06762124002455494, \"std_score\": 0.010696906763121752, \"max_score\": 0.08287292817679558, \"min_score\": 0.055248618784530384, \"knn__n_neighbors\": 3.0, \"knn__p\": 1.0, \"rfi_fs__n_features_\": 5.0, \"type_KNN\": \"normal_KNN\"}, {\"mean_score\": 0.053756906077348066, \"std_score\": 0.019174029314242363, \"max_score\": 0.08888888888888889, \"min_score\": 0.027624309392265192, \"knn__n_neighbors\": 5.0, \"knn__p\": 1.0, \"rfi_fs__n_features_\": 7.0, \"type_KNN\": \"normal_KNN\"}, {\"mean_score\": 0.042139349294045426, \"std_score\": 0.015312130488549855, \"max_score\": 0.0718232044198895, \"min_score\": 0.011049723756906077, \"knn__n_neighbors\": 5.0, \"knn__p\": 1.0, \"rfi_fs__n_features_\": 6.0, \"type_KNN\": \"normal_KNN\"}, {\"mean_score\": 0.037120933087783914, \"std_score\": 0.013976292310789225, \"max_score\": 0.06077348066298342, \"min_score\": 0.016666666666666666, \"knn__n_neighbors\": 5.0, \"knn__p\": 1.0, \"rfi_fs__n_features_\": 5.0, \"type_KNN\": \"normal_KNN\"}, {\"mean_score\": 0.03659300184162063, \"std_score\": 0.012212032483659688, \"max_score\": 0.055248618784530384, \"min_score\": 0.016666666666666666, \"knn__n_neighbors\": 3.0, \"knn__p\": 1.0, \"rfi_fs__n_features_\": 4.0, \"type_KNN\": \"normal_KNN\"}, {\"mean_score\": 0.036025168815224065, \"std_score\": 0.012901593823734521, \"max_score\": 0.06629834254143646, \"min_score\": 0.022099447513812154, \"knn__n_neighbors\": 2.0, \"knn__p\": 1.0, \"rfi_fs__n_features_\": 7.0, \"type_KNN\": \"normal_KNN\"}, {\"mean_score\": 0.029383057090239417, \"std_score\": 0.014872010188605355, \"max_score\": 0.055248618784530384, \"min_score\": 0.0055248618784530384, \"knn__n_neighbors\": 2.0, \"knn__p\": 1.0, \"rfi_fs__n_features_\": 6.0, \"type_KNN\": \"normal_KNN\"}, {\"mean_score\": 0.027157765500306935, \"std_score\": 0.007602059845636733, \"max_score\": 0.03888888888888889, \"min_score\": 0.016574585635359115, \"knn__n_neighbors\": 2.0, \"knn__p\": 1.0, \"rfi_fs__n_features_\": 5.0, \"type_KNN\": \"normal_KNN\"}, {\"mean_score\": 0.023827501534683854, \"std_score\": 0.01160840427276435, \"max_score\": 0.049723756906077346, \"min_score\": 0.005555555555555556, \"knn__n_neighbors\": 4.0, \"knn__p\": 1.0, \"rfi_fs__n_features_\": 7.0, \"type_KNN\": \"normal_KNN\"}, {\"mean_score\": 0.022710251688152237, \"std_score\": 0.011960908519256835, \"max_score\": 0.049723756906077346, \"min_score\": 0.005555555555555556, \"knn__n_neighbors\": 3.0, \"knn__p\": 1.0, \"rfi_fs__n_features_\": 3.0, \"type_KNN\": \"normal_KNN\"}, {\"mean_score\": 0.018845917740945364, \"std_score\": 0.010854830949565339, \"max_score\": 0.03867403314917127, \"min_score\": 0.0055248618784530384, \"knn__n_neighbors\": 4.0, \"knn__p\": 1.0, \"rfi_fs__n_features_\": 6.0, \"type_KNN\": \"normal_KNN\"}, {\"mean_score\": 0.01828729281767956, \"std_score\": 0.009288261700530279, \"max_score\": 0.03333333333333333, \"min_score\": 0.005555555555555556, \"knn__n_neighbors\": 4.0, \"knn__p\": 1.0, \"rfi_fs__n_features_\": 5.0, \"type_KNN\": \"normal_KNN\"}, {\"mean_score\": 0.01441988950276243, \"std_score\": 0.009345736287729098, \"max_score\": 0.027777777777777776, \"min_score\": 0.0, \"knn__n_neighbors\": 5.0, \"knn__p\": 1.0, \"rfi_fs__n_features_\": 4.0, \"type_KNN\": \"normal_KNN\"}, {\"mean_score\": 0.01220073664825046, \"std_score\": 0.008170023229755395, \"max_score\": 0.03333333333333333, \"min_score\": 0.0055248618784530384, \"knn__n_neighbors\": 5.0, \"knn__p\": 1.0, \"rfi_fs__n_features_\": 3.0, \"type_KNN\": \"normal_KNN\"}, {\"mean_score\": 0.010521792510742787, \"std_score\": 0.00871969282154974, \"max_score\": 0.027624309392265192, \"min_score\": 0.0, \"knn__n_neighbors\": 2.0, \"knn__p\": 1.0, \"rfi_fs__n_features_\": 4.0, \"type_KNN\": \"normal_KNN\"}, {\"mean_score\": 0.006645181092694905, \"std_score\": 0.005422683301377961, \"max_score\": 0.016574585635359115, \"min_score\": 0.0, \"knn__n_neighbors\": 2.0, \"knn__p\": 1.0, \"rfi_fs__n_features_\": 3.0, \"type_KNN\": \"normal_KNN\"}, {\"mean_score\": 0.005540208717004297, \"std_score\": 0.0042875067978977955, \"max_score\": 0.011111111111111112, \"min_score\": 0.0, \"knn__n_neighbors\": 4.0, \"knn__p\": 1.0, \"rfi_fs__n_features_\": 3.0, \"type_KNN\": \"normal_KNN\"}, {\"mean_score\": 0.004993861264579498, \"std_score\": 0.005240464265847587, \"max_score\": 0.016666666666666666, \"min_score\": 0.0, \"knn__n_neighbors\": 4.0, \"knn__p\": 1.0, \"rfi_fs__n_features_\": 4.0, \"type_KNN\": \"normal_KNN\"}]}};\n",
       "var opt = {};\n",
       "var type = \"vega-lite\";\n",
       "var id = \"593bc51c-3057-4979-a375-b10a4958717a\";\n",
       "\n",
       "var output_area = this;\n",
       "\n",
       "require([\"nbextensions/jupyter-vega/index\"], function(vega) {\n",
       "  var target = document.createElement(\"div\");\n",
       "  target.id = id;\n",
       "  target.className = \"vega-embed\";\n",
       "\n",
       "  var style = document.createElement(\"style\");\n",
       "  style.textContent = [\n",
       "    \".vega-embed .error p {\",\n",
       "    \"  color: firebrick;\",\n",
       "    \"  font-size: 14px;\",\n",
       "    \"}\",\n",
       "  ].join(\"\\\\n\");\n",
       "\n",
       "  // element is a jQuery wrapped DOM element inside the output area\n",
       "  // see http://ipython.readthedocs.io/en/stable/api/generated/\\\n",
       "  // IPython.display.html#IPython.display.Javascript.__init__\n",
       "  element[0].appendChild(target);\n",
       "  element[0].appendChild(style);\n",
       "\n",
       "  vega.render(\"#\" + id, spec, type, opt, output_area);\n",
       "}, function (err) {\n",
       "  if (err.requireType !== \"scripterror\") {\n",
       "    throw(err);\n",
       "  }\n",
       "});\n"
      ],
      "text/plain": [
       "<vega.vegalite.VegaLite at 0x1d25118c390>"
      ]
     },
     "metadata": {
      "jupyter-vega": "#593bc51c-3057-4979-a375-b10a4958717a"
     },
     "output_type": "display_data"
    },
    {
     "data": {
      "text/plain": []
     },
     "execution_count": 62,
     "metadata": {},
     "output_type": "execute_result"
    },
    {
     "data": {
      "image/png": "[encoded data removed]"
     },
     "metadata": {
      "jupyter-vega": "#593bc51c-3057-4979-a375-b10a4958717a"
     },
     "output_type": "display_data"
    }
   ],
   "source": [
    "alt.Chart(results_KNN_combined, \n",
    "          title='KNN Performance Comparison'\n",
    "         ).mark_line(point=True).encode(\n",
    "    alt.X('knn__n_neighbors', title='Number of Neighbors'),\n",
    "    alt.Y('mean_score', title='Recall Score', aggregate='average', \n",
    "          scale=alt.Scale(zero=False)),\n",
    "    alt.Color('type_KNN', title = 'model')\n",
    ")"
   ]
  },
  {
   "cell_type": "markdown",
   "metadata": {},
   "source": [
    "As can be seen from the graph, the model that used the weighted training data performs much better than the model using the normal data. The recall score is still relatively low."
   ]
  },
  {
   "cell_type": "markdown",
   "metadata": {},
   "source": [
    "## Decision Trees (DT)"
   ]
  },
  {
   "cell_type": "markdown",
   "metadata": {},
   "source": [
    "After some dissapointing results with our nearest neighbors approach, we build a DT. We use the gini index as the classifier and continue to include our RFIFeatureSelector in the pipeline."
   ]
  },
  {
   "cell_type": "code",
   "execution_count": 63,
   "metadata": {
    "scrolled": true
   },
   "outputs": [
    {
     "name": "stdout",
     "output_type": "stream",
     "text": [
      "Fitting 10 folds for each of 30 candidates, totalling 300 fits\n"
     ]
    },
    {
     "name": "stderr",
     "output_type": "stream",
     "text": [
      "[Parallel(n_jobs=-2)]: Using backend LokyBackend with 7 concurrent workers.\n",
      "[Parallel(n_jobs=-2)]: Done  36 tasks      | elapsed:   16.9s\n",
      "[Parallel(n_jobs=-2)]: Done 186 tasks      | elapsed:  1.4min\n",
      "[Parallel(n_jobs=-2)]: Done 300 out of 300 | elapsed:  2.2min finished\n"
     ]
    }
   ],
   "source": [
    "from sklearn.tree import DecisionTreeClassifier\n",
    "\n",
    "# with multiple dt_criterion\n",
    "pipe_DT = Pipeline([('rfi_fs', RFIFeatureSelector()),\n",
    "                    ('dt', DecisionTreeClassifier())])\n",
    "\n",
    "params_pipe_DT = {'rfi_fs__n_features_': [10, 20, Data.shape[1]],\n",
    "                  'dt__criterion': ['gini', 'entropy'],\n",
    "                  'dt__max_depth': [3, 4, 5, 6, 7]}\n",
    "\n",
    "gs_pipe_DT = GridSearchCV(estimator=pipe_DT, \n",
    "                          param_grid=params_pipe_DT, \n",
    "                          cv=cv_method,\n",
    "                          refit=True,\n",
    "                          n_jobs=-2,\n",
    "                          scoring='recall',\n",
    "                          verbose=1) \n",
    "\n",
    "gs_pipe_DT.fit(Data_train, target_train);"
   ]
  },
  {
   "cell_type": "code",
   "execution_count": 64,
   "metadata": {},
   "outputs": [
    {
     "data": {
      "text/plain": [
       "{'dt__criterion': 'gini', 'dt__max_depth': 7, 'rfi_fs__n_features_': 10}"
      ]
     },
     "execution_count": 64,
     "metadata": {},
     "output_type": "execute_result"
    }
   ],
   "source": [
    "gs_pipe_DT.best_params_"
   ]
  },
  {
   "cell_type": "code",
   "execution_count": 65,
   "metadata": {},
   "outputs": [
    {
     "data": {
      "text/plain": [
       "0.040486700960750244"
      ]
     },
     "execution_count": 65,
     "metadata": {},
     "output_type": "execute_result"
    }
   ],
   "source": [
    "gs_pipe_DT.best_score_"
   ]
  },
  {
   "cell_type": "markdown",
   "metadata": {},
   "source": [
    "The decision tree model used the gini index for the splitting criterion. The maximum depth of the tree is equal to 7, using 10 features. Based on the score of 0.041, the model is not satisfactory at all. Below we look further into how this model performs on our test data."
   ]
  },
  {
   "cell_type": "code",
   "execution_count": 66,
   "metadata": {},
   "outputs": [
    {
     "data": {
      "text/html": [
       "<div>\n",
       "<style scoped>\n",
       "    .dataframe tbody tr th:only-of-type {\n",
       "        vertical-align: middle;\n",
       "    }\n",
       "\n",
       "    .dataframe tbody tr th {\n",
       "        vertical-align: top;\n",
       "    }\n",
       "\n",
       "    .dataframe thead th {\n",
       "        text-align: right;\n",
       "    }\n",
       "</style>\n",
       "<table border=\"1\" class=\"dataframe\">\n",
       "  <thead>\n",
       "    <tr style=\"text-align: right;\">\n",
       "      <th></th>\n",
       "      <th>mean_score</th>\n",
       "      <th>std_score</th>\n",
       "      <th>max_score</th>\n",
       "      <th>min_score</th>\n",
       "      <th>dt__criterion</th>\n",
       "      <th>dt__max_depth</th>\n",
       "      <th>rfi_fs__n_features_</th>\n",
       "    </tr>\n",
       "  </thead>\n",
       "  <tbody>\n",
       "    <tr>\n",
       "      <th>12</th>\n",
       "      <td>0.040488</td>\n",
       "      <td>0.0221044</td>\n",
       "      <td>0.0833333</td>\n",
       "      <td>0.0165746</td>\n",
       "      <td>gini</td>\n",
       "      <td>7</td>\n",
       "      <td>10</td>\n",
       "    </tr>\n",
       "    <tr>\n",
       "      <th>14</th>\n",
       "      <td>0.0377195</td>\n",
       "      <td>0.0157028</td>\n",
       "      <td>0.0666667</td>\n",
       "      <td>0.0110497</td>\n",
       "      <td>gini</td>\n",
       "      <td>7</td>\n",
       "      <td>76</td>\n",
       "    </tr>\n",
       "    <tr>\n",
       "      <th>13</th>\n",
       "      <td>0.0349478</td>\n",
       "      <td>0.0172403</td>\n",
       "      <td>0.0722222</td>\n",
       "      <td>0.00552486</td>\n",
       "      <td>gini</td>\n",
       "      <td>7</td>\n",
       "      <td>20</td>\n",
       "    </tr>\n",
       "    <tr>\n",
       "      <th>27</th>\n",
       "      <td>0.0305157</td>\n",
       "      <td>0.0189754</td>\n",
       "      <td>0.0611111</td>\n",
       "      <td>0.00552486</td>\n",
       "      <td>entropy</td>\n",
       "      <td>7</td>\n",
       "      <td>10</td>\n",
       "    </tr>\n",
       "    <tr>\n",
       "      <th>29</th>\n",
       "      <td>0.0277471</td>\n",
       "      <td>0.0192486</td>\n",
       "      <td>0.0555556</td>\n",
       "      <td>0</td>\n",
       "      <td>entropy</td>\n",
       "      <td>7</td>\n",
       "      <td>76</td>\n",
       "    </tr>\n",
       "  </tbody>\n",
       "</table>\n",
       "</div>"
      ],
      "text/plain": [
       "   mean_score  std_score  max_score   min_score dt__criterion dt__max_depth  \\\n",
       "12   0.040488  0.0221044  0.0833333   0.0165746          gini             7   \n",
       "14  0.0377195  0.0157028  0.0666667   0.0110497          gini             7   \n",
       "13  0.0349478  0.0172403  0.0722222  0.00552486          gini             7   \n",
       "27  0.0305157  0.0189754  0.0611111  0.00552486       entropy             7   \n",
       "29  0.0277471  0.0192486  0.0555556           0       entropy             7   \n",
       "\n",
       "   rfi_fs__n_features_  \n",
       "12                  10  \n",
       "14                  76  \n",
       "13                  20  \n",
       "27                  10  \n",
       "29                  76  "
      ]
     },
     "execution_count": 66,
     "metadata": {},
     "output_type": "execute_result"
    }
   ],
   "source": [
    "results_DT = get_search_results(gs_pipe_DT)\n",
    "results_DT.head()"
   ]
  },
  {
   "cell_type": "code",
   "execution_count": 67,
   "metadata": {},
   "outputs": [],
   "source": [
    "t_pred = gs_pipe_DT.best_estimator_.predict(Data_test)"
   ]
  },
  {
   "cell_type": "code",
   "execution_count": 68,
   "metadata": {},
   "outputs": [
    {
     "name": "stdout",
     "output_type": "stream",
     "text": [
      "              precision    recall  f1-score   support\n",
      "\n",
      "         0.0       0.94      0.99      0.97      6132\n",
      "         1.0       0.32      0.04      0.07       386\n",
      "\n",
      "   micro avg       0.94      0.94      0.94      6518\n",
      "   macro avg       0.63      0.52      0.52      6518\n",
      "weighted avg       0.91      0.94      0.91      6518\n",
      "\n"
     ]
    }
   ],
   "source": [
    "from sklearn.metrics import classification_report\n",
    "\n",
    "report_DT = classification_report(target_test, t_pred)\n",
    "print(report_DT)"
   ]
  },
  {
   "cell_type": "code",
   "execution_count": 69,
   "metadata": {},
   "outputs": [
    {
     "name": "stdout",
     "output_type": "stream",
     "text": [
      "              precision    recall  f1-score   support\n",
      "\n",
      "         0.0       0.94      0.99      0.97      6132\n",
      "         1.0       0.32      0.04      0.07       386\n",
      "\n",
      "   micro avg       0.94      0.94      0.94      6518\n",
      "   macro avg       0.63      0.52      0.52      6518\n",
      "weighted avg       0.91      0.94      0.91      6518\n",
      "\n",
      "[[6098   34]\n",
      " [ 370   16]]\n"
     ]
    }
   ],
   "source": [
    "from sklearn.metrics import classification_report\n",
    "\n",
    "report_DT = classification_report(target_test, t_pred)\n",
    "print(report_DT)\n",
    "from sklearn.metrics import confusion_matrix\n",
    "\n",
    "matrix_DT = confusion_matrix(target_test, t_pred)\n",
    "print(matrix_DT)"
   ]
  },
  {
   "cell_type": "markdown",
   "metadata": {},
   "source": [
    "Even our \"best\" DT model performed pretty poorly however. Looking at the confusion matrix and classification reports we see it pretty much predicts all negatives. This is not a model we find satisfactory. As before we see if we can get better results by weighting our data."
   ]
  },
  {
   "cell_type": "code",
   "execution_count": 71,
   "metadata": {},
   "outputs": [
    {
     "name": "stdout",
     "output_type": "stream",
     "text": [
      "Fitting 10 folds for each of 60 candidates, totalling 600 fits\n"
     ]
    },
    {
     "name": "stderr",
     "output_type": "stream",
     "text": [
      "[Parallel(n_jobs=-2)]: Using backend LokyBackend with 7 concurrent workers.\n",
      "[Parallel(n_jobs=-2)]: Done  36 tasks      | elapsed:    6.6s\n",
      "[Parallel(n_jobs=-2)]: Done 186 tasks      | elapsed:   28.7s\n",
      "[Parallel(n_jobs=-2)]: Done 436 tasks      | elapsed:  1.1min\n",
      "[Parallel(n_jobs=-2)]: Done 600 out of 600 | elapsed:  1.5min finished\n"
     ]
    }
   ],
   "source": [
    "from sklearn.tree import DecisionTreeClassifier\n",
    "\n",
    "pipe_DT_weighted = Pipeline([('rfi_fs', RFIFeatureSelector()),\n",
    "                    ('dt', DecisionTreeClassifier(criterion='gini'))])\n",
    "\n",
    "params_pipe_DT_weighted = {'rfi_fs__n_features_': [5, 10, 20, 25],\n",
    "                  'dt__max_depth': [3, 4, 5, 6, 7],\n",
    "                  'dt__min_samples_split': [2, 3, 4]}\n",
    "\n",
    "gs_pipe_DT_weighted = GridSearchCV(estimator=pipe_DT_weighted, \n",
    "                          param_grid=params_pipe_DT_weighted, \n",
    "                          cv=cv_method,\n",
    "                          refit=True,\n",
    "                          n_jobs=-2,\n",
    "                          scoring='recall',\n",
    "                          verbose=1) \n",
    "\n",
    "gs_pipe_DT_weighted.fit(Data_weighted_train, target_weighted_train);"
   ]
  },
  {
   "cell_type": "code",
   "execution_count": 72,
   "metadata": {},
   "outputs": [
    {
     "data": {
      "text/plain": [
       "{'dt__max_depth': 6, 'dt__min_samples_split': 3, 'rfi_fs__n_features_': 25}"
      ]
     },
     "execution_count": 72,
     "metadata": {},
     "output_type": "execute_result"
    }
   ],
   "source": [
    "gs_pipe_DT_weighted.best_params_"
   ]
  },
  {
   "cell_type": "code",
   "execution_count": 73,
   "metadata": {},
   "outputs": [],
   "source": [
    "t_pred =gs_pipe_DT_weighted.best_estimator_.predict(Data_weighted_test)"
   ]
  },
  {
   "cell_type": "code",
   "execution_count": 74,
   "metadata": {},
   "outputs": [
    {
     "name": "stdout",
     "output_type": "stream",
     "text": [
      "              precision    recall  f1-score   support\n",
      "\n",
      "         0.0       0.96      0.93      0.94      6121\n",
      "         1.0       0.23      0.32      0.27       397\n",
      "\n",
      "   micro avg       0.89      0.89      0.89      6518\n",
      "   macro avg       0.59      0.63      0.61      6518\n",
      "weighted avg       0.91      0.89      0.90      6518\n",
      "\n"
     ]
    }
   ],
   "source": [
    "from sklearn.metrics import classification_report\n",
    "\n",
    "report_DT_weighted = classification_report(target_weighted_test, t_pred)\n",
    "print(report_DT_weighted)"
   ]
  },
  {
   "cell_type": "code",
   "execution_count": 75,
   "metadata": {},
   "outputs": [
    {
     "name": "stdout",
     "output_type": "stream",
     "text": [
      "[[5691  430]\n",
      " [ 268  129]]\n",
      "[[6098   34]\n",
      " [ 370   16]]\n"
     ]
    }
   ],
   "source": [
    "from sklearn.metrics import confusion_matrix\n",
    "\n",
    "matrix_DT_weighted = confusion_matrix(target_weighted_test, t_pred)\n",
    "print(matrix_DT_weighted)\n",
    "print(matrix_DT)"
   ]
  },
  {
   "cell_type": "code",
   "execution_count": 108,
   "metadata": {},
   "outputs": [
    {
     "data": {
      "application/javascript": [
       "var spec = {\"config\": {\"view\": {\"width\": 400, \"height\": 300}, \"mark\": {\"tooltip\": null}}, \"data\": {\"name\": \"data-969914b1aa1590bbd1b412d58d9da95d\"}, \"mark\": {\"type\": \"line\", \"point\": true}, \"encoding\": {\"color\": {\"type\": \"nominal\", \"field\": \"dt__max_depth\", \"title\": \"Max Depth\"}, \"x\": {\"type\": \"quantitative\", \"field\": \"dt__min_samples_split\", \"title\": \"Min Samples for Split\"}, \"y\": {\"type\": \"quantitative\", \"field\": \"mean_score\", \"scale\": {\"zero\": false}, \"title\": \"Recall Score\"}}, \"title\": \"DT Performance Comparison (using 10 features)\", \"$schema\": \"https://vega.github.io/schema/vega-lite/v3.2.1.json\", \"datasets\": {\"data-969914b1aa1590bbd1b412d58d9da95d\": [{\"mean_score\": 0.3361182599962338, \"std_score\": 0.05366221319537955, \"max_score\": 0.4101123595505618, \"min_score\": 0.25280898876404495, \"dt__max_depth\": 7.0, \"dt__min_samples_split\": 4.0, \"rfi_fs__n_features_\": 10.0}, {\"mean_score\": 0.3338804845897935, \"std_score\": 0.05592639128703302, \"max_score\": 0.4101123595505618, \"min_score\": 0.25842696629213485, \"dt__max_depth\": 7.0, \"dt__min_samples_split\": 2.0, \"rfi_fs__n_features_\": 10.0}, {\"mean_score\": 0.33275688908417556, \"std_score\": 0.05741129891941746, \"max_score\": 0.4157303370786517, \"min_score\": 0.24719101123595505, \"dt__max_depth\": 7.0, \"dt__min_samples_split\": 3.0, \"rfi_fs__n_features_\": 10.0}, {\"mean_score\": 0.3305222522126671, \"std_score\": 0.05220536484388355, \"max_score\": 0.42134831460674155, \"min_score\": 0.2247191011235955, \"dt__max_depth\": 6.0, \"dt__min_samples_split\": 3.0, \"rfi_fs__n_features_\": 10.0}, {\"mean_score\": 0.3282781997363631, \"std_score\": 0.05128376681342923, \"max_score\": 0.42134831460674155, \"min_score\": 0.2303370786516854, \"dt__max_depth\": 6.0, \"dt__min_samples_split\": 2.0, \"rfi_fs__n_features_\": 10.0}, {\"mean_score\": 0.3277164019835541, \"std_score\": 0.047771446372140244, \"max_score\": 0.4044943820224719, \"min_score\": 0.2303370786516854, \"dt__max_depth\": 6.0, \"dt__min_samples_split\": 4.0, \"rfi_fs__n_features_\": 10.0}, {\"mean_score\": 0.3041460046450317, \"std_score\": 0.05539138949350346, \"max_score\": 0.38764044943820225, \"min_score\": 0.21348314606741572, \"dt__max_depth\": 5.0, \"dt__min_samples_split\": 2.0, \"rfi_fs__n_features_\": 10.0}, {\"mean_score\": 0.30300985499968613, \"std_score\": 0.05714675784084242, \"max_score\": 0.38764044943820225, \"min_score\": 0.21348314606741572, \"dt__max_depth\": 5.0, \"dt__min_samples_split\": 4.0, \"rfi_fs__n_features_\": 10.0}, {\"mean_score\": 0.3024480572468772, \"std_score\": 0.05733344524820207, \"max_score\": 0.38764044943820225, \"min_score\": 0.21348314606741572, \"dt__max_depth\": 5.0, \"dt__min_samples_split\": 3.0, \"rfi_fs__n_features_\": 10.0}, {\"mean_score\": 0.2649143179963593, \"std_score\": 0.05311097222172252, \"max_score\": 0.3539325842696629, \"min_score\": 0.17318435754189945, \"dt__max_depth\": 4.0, \"dt__min_samples_split\": 4.0, \"rfi_fs__n_features_\": 10.0}, {\"mean_score\": 0.2637907224907413, \"std_score\": 0.050809426781492154, \"max_score\": 0.33707865168539325, \"min_score\": 0.17318435754189945, \"dt__max_depth\": 4.0, \"dt__min_samples_split\": 3.0, \"rfi_fs__n_features_\": 10.0}, {\"mean_score\": 0.26322892473793236, \"std_score\": 0.050460665399385846, \"max_score\": 0.33707865168539325, \"min_score\": 0.17318435754189945, \"dt__max_depth\": 4.0, \"dt__min_samples_split\": 2.0, \"rfi_fs__n_features_\": 10.0}, {\"mean_score\": 0.20483020526018456, \"std_score\": 0.037128260828030966, \"max_score\": 0.2640449438202247, \"min_score\": 0.14606741573033707, \"dt__max_depth\": 3.0, \"dt__min_samples_split\": 4.0, \"rfi_fs__n_features_\": 10.0}, {\"mean_score\": 0.20483020526018456, \"std_score\": 0.037128260828030966, \"max_score\": 0.2640449438202247, \"min_score\": 0.14606741573033707, \"dt__max_depth\": 3.0, \"dt__min_samples_split\": 2.0, \"rfi_fs__n_features_\": 10.0}, {\"mean_score\": 0.20483020526018456, \"std_score\": 0.037128260828030966, \"max_score\": 0.2640449438202247, \"min_score\": 0.14606741573033707, \"dt__max_depth\": 3.0, \"dt__min_samples_split\": 3.0, \"rfi_fs__n_features_\": 10.0}]}};\n",
       "var opt = {};\n",
       "var type = \"vega-lite\";\n",
       "var id = \"ff1c3dfd-5f41-4b2c-a191-e59ff59d8096\";\n",
       "\n",
       "var output_area = this;\n",
       "\n",
       "require([\"nbextensions/jupyter-vega/index\"], function(vega) {\n",
       "  var target = document.createElement(\"div\");\n",
       "  target.id = id;\n",
       "  target.className = \"vega-embed\";\n",
       "\n",
       "  var style = document.createElement(\"style\");\n",
       "  style.textContent = [\n",
       "    \".vega-embed .error p {\",\n",
       "    \"  color: firebrick;\",\n",
       "    \"  font-size: 14px;\",\n",
       "    \"}\",\n",
       "  ].join(\"\\\\n\");\n",
       "\n",
       "  // element is a jQuery wrapped DOM element inside the output area\n",
       "  // see http://ipython.readthedocs.io/en/stable/api/generated/\\\n",
       "  // IPython.display.html#IPython.display.Javascript.__init__\n",
       "  element[0].appendChild(target);\n",
       "  element[0].appendChild(style);\n",
       "\n",
       "  vega.render(\"#\" + id, spec, type, opt, output_area);\n",
       "}, function (err) {\n",
       "  if (err.requireType !== \"scripterror\") {\n",
       "    throw(err);\n",
       "  }\n",
       "});\n"
      ],
      "text/plain": [
       "<vega.vegalite.VegaLite at 0x1d2511b5cf8>"
      ]
     },
     "metadata": {
      "jupyter-vega": "#ff1c3dfd-5f41-4b2c-a191-e59ff59d8096"
     },
     "output_type": "display_data"
    },
    {
     "data": {
      "text/plain": []
     },
     "execution_count": 108,
     "metadata": {},
     "output_type": "execute_result"
    },
    {
     "data": {
      "image/png": "[encoded data removed]"
     },
     "metadata": {
      "jupyter-vega": "#ff1c3dfd-5f41-4b2c-a191-e59ff59d8096"
     },
     "output_type": "display_data"
    }
   ],
   "source": [
    "results_DT_weighted = get_search_results(gs_pipe_DT_weighted)\n",
    "\n",
    "results_DT_features_weighted = results_DT_weighted[results_DT_weighted['rfi_fs__n_features_'] == 10.0]\n",
    "\n",
    "alt.Chart(results_DT_features_weighted, \n",
    "          title='DT Performance Comparison (using 10 features)'\n",
    "         ).mark_line(point=True).encode(\n",
    "    alt.X('dt__min_samples_split', title='Min Samples for Split'),\n",
    "    alt.Y('mean_score', title='Recall Score', scale=alt.Scale(zero=False)),\n",
    "    alt.Color('dt__max_depth:N', title='Max Depth')\n",
    ")"
   ]
  },
  {
   "cell_type": "markdown",
   "metadata": {},
   "source": [
    "Again the weighted model produces more true positives than the unweighted. Our DT models are however even further from satisfactory results than the KNN. Perhaps we will see more exciting numbers with our Naive Bayes model."
   ]
  },
  {
   "cell_type": "markdown",
   "metadata": {},
   "source": [
    "## Naive Bayes (NB)"
   ]
  },
  {
   "cell_type": "markdown",
   "metadata": {},
   "source": [
    "For the Naive Bayes model we use a Laplacian Smoothing with hyperparameter var_smoothing. To find the optimal var_smoothing value we conduct a grid search with 100 values between 10 and 10^-9. To save computation time, instead of a full grid search a randomized search is performed over 20 values. \n",
    "\n",
    "We start by transforming the data to a Gaussian distribution after which we fit the model with our training data."
   ]
  },
  {
   "cell_type": "code",
   "execution_count": 77,
   "metadata": {},
   "outputs": [],
   "source": [
    "from sklearn.preprocessing import PowerTransformer\n",
    "Data_transformed = PowerTransformer().fit_transform(Data_train)\n",
    "test_transformed = PowerTransformer().fit_transform(Data_test)"
   ]
  },
  {
   "cell_type": "code",
   "execution_count": 78,
   "metadata": {},
   "outputs": [
    {
     "name": "stdout",
     "output_type": "stream",
     "text": [
      "Fitting 10 folds for each of 20 candidates, totalling 200 fits\n"
     ]
    },
    {
     "name": "stderr",
     "output_type": "stream",
     "text": [
      "[Parallel(n_jobs=-2)]: Using backend LokyBackend with 7 concurrent workers.\n",
      "[Parallel(n_jobs=-2)]: Done  36 tasks      | elapsed:   19.7s\n",
      "[Parallel(n_jobs=-2)]: Done 186 tasks      | elapsed:  1.8min\n",
      "[Parallel(n_jobs=-2)]: Done 200 out of 200 | elapsed:  1.9min finished\n"
     ]
    }
   ],
   "source": [
    "from sklearn.naive_bayes import GaussianNB\n",
    "from sklearn.model_selection import RandomizedSearchCV\n",
    "\n",
    "pipe_NB = Pipeline([('rfi_fs', RFIFeatureSelector()), \n",
    "                     ('nb', GaussianNB())])\n",
    "\n",
    "params_pipe_NB = {'rfi_fs__n_features_': [5, 10, 15, 20, 25],\n",
    "                  'nb__var_smoothing': np.logspace(1,-9, num=100)}\n",
    "\n",
    "n_iter_search = 20\n",
    "gs_pipe_NB = RandomizedSearchCV(estimator=pipe_NB, \n",
    "                          param_distributions=params_pipe_NB, \n",
    "                          cv=cv_method,\n",
    "                          refit=True,\n",
    "                          n_jobs=-2,\n",
    "                          scoring='recall',\n",
    "                          n_iter=n_iter_search,\n",
    "                          verbose=1, \n",
    "                           random_state = 8) \n",
    "\n",
    "gs_pipe_NB.fit(Data_transformed, target_train);"
   ]
  },
  {
   "cell_type": "code",
   "execution_count": 79,
   "metadata": {},
   "outputs": [
    {
     "data": {
      "text/plain": [
       "{'rfi_fs__n_features_': 20, 'nb__var_smoothing': 3.3516026509388407e-07}"
      ]
     },
     "execution_count": 79,
     "metadata": {},
     "output_type": "execute_result"
    }
   ],
   "source": [
    "gs_pipe_NB.best_params_"
   ]
  },
  {
   "cell_type": "code",
   "execution_count": 80,
   "metadata": {},
   "outputs": [
    {
     "data": {
      "text/plain": [
       "0.43021709252100027"
      ]
     },
     "execution_count": 80,
     "metadata": {},
     "output_type": "execute_result"
    }
   ],
   "source": [
    "gs_pipe_NB.best_score_"
   ]
  },
  {
   "cell_type": "markdown",
   "metadata": {},
   "source": [
    "With the Naive Bayes model, we are able to get a recall score of 0.440 which is a huge improvement compared to previous model fittings. 20 features were used with a very small smoothing hyperparameter."
   ]
  },
  {
   "cell_type": "code",
   "execution_count": 81,
   "metadata": {},
   "outputs": [
    {
     "data": {
      "text/html": [
       "<div>\n",
       "<style scoped>\n",
       "    .dataframe tbody tr th:only-of-type {\n",
       "        vertical-align: middle;\n",
       "    }\n",
       "\n",
       "    .dataframe tbody tr th {\n",
       "        vertical-align: top;\n",
       "    }\n",
       "\n",
       "    .dataframe thead th {\n",
       "        text-align: right;\n",
       "    }\n",
       "</style>\n",
       "<table border=\"1\" class=\"dataframe\">\n",
       "  <thead>\n",
       "    <tr style=\"text-align: right;\">\n",
       "      <th></th>\n",
       "      <th>mean_score</th>\n",
       "      <th>std_score</th>\n",
       "      <th>max_score</th>\n",
       "      <th>min_score</th>\n",
       "      <th>rfi_fs__n_features_</th>\n",
       "      <th>nb__var_smoothing</th>\n",
       "    </tr>\n",
       "  </thead>\n",
       "  <tbody>\n",
       "    <tr>\n",
       "      <th>9</th>\n",
       "      <td>0.430221</td>\n",
       "      <td>0.046798</td>\n",
       "      <td>0.494444</td>\n",
       "      <td>0.337017</td>\n",
       "      <td>20.0</td>\n",
       "      <td>3.351603e-07</td>\n",
       "    </tr>\n",
       "    <tr>\n",
       "      <th>19</th>\n",
       "      <td>0.426329</td>\n",
       "      <td>0.042497</td>\n",
       "      <td>0.494444</td>\n",
       "      <td>0.337017</td>\n",
       "      <td>20.0</td>\n",
       "      <td>2.782559e-05</td>\n",
       "    </tr>\n",
       "    <tr>\n",
       "      <th>14</th>\n",
       "      <td>0.419662</td>\n",
       "      <td>0.038669</td>\n",
       "      <td>0.475138</td>\n",
       "      <td>0.337017</td>\n",
       "      <td>20.0</td>\n",
       "      <td>4.132012e-08</td>\n",
       "    </tr>\n",
       "    <tr>\n",
       "      <th>8</th>\n",
       "      <td>0.419098</td>\n",
       "      <td>0.056909</td>\n",
       "      <td>0.505556</td>\n",
       "      <td>0.337017</td>\n",
       "      <td>25.0</td>\n",
       "      <td>5.336699e-07</td>\n",
       "    </tr>\n",
       "    <tr>\n",
       "      <th>17</th>\n",
       "      <td>0.417431</td>\n",
       "      <td>0.047633</td>\n",
       "      <td>0.483333</td>\n",
       "      <td>0.337017</td>\n",
       "      <td>25.0</td>\n",
       "      <td>5.214008e-08</td>\n",
       "    </tr>\n",
       "  </tbody>\n",
       "</table>\n",
       "</div>"
      ],
      "text/plain": [
       "    mean_score  std_score  max_score  min_score  rfi_fs__n_features_  \\\n",
       "9     0.430221   0.046798   0.494444   0.337017                 20.0   \n",
       "19    0.426329   0.042497   0.494444   0.337017                 20.0   \n",
       "14    0.419662   0.038669   0.475138   0.337017                 20.0   \n",
       "8     0.419098   0.056909   0.505556   0.337017                 25.0   \n",
       "17    0.417431   0.047633   0.483333   0.337017                 25.0   \n",
       "\n",
       "    nb__var_smoothing  \n",
       "9        3.351603e-07  \n",
       "19       2.782559e-05  \n",
       "14       4.132012e-08  \n",
       "8        5.336699e-07  \n",
       "17       5.214008e-08  "
      ]
     },
     "execution_count": 81,
     "metadata": {},
     "output_type": "execute_result"
    }
   ],
   "source": [
    "results_NB = get_search_results(gs_pipe_NB)\n",
    "results_NB.head()"
   ]
  },
  {
   "cell_type": "code",
   "execution_count": 82,
   "metadata": {},
   "outputs": [
    {
     "data": {
      "application/javascript": [
       "var spec = {\"config\": {\"view\": {\"width\": 400, \"height\": 300}, \"mark\": {\"tooltip\": null}}, \"data\": {\"name\": \"data-86c85059702325b8d13f453723c3620d\"}, \"mark\": {\"type\": \"line\", \"point\": true}, \"encoding\": {\"x\": {\"type\": \"quantitative\", \"field\": \"nb__var_smoothing\", \"title\": \"Var. Smoothing\"}, \"y\": {\"type\": \"quantitative\", \"field\": \"mean_score\", \"scale\": {\"zero\": false}, \"title\": \"Recall Score\"}}, \"title\": \"NB Performance Comparison with 10 Features\", \"$schema\": \"https://vega.github.io/schema/vega-lite/v3.2.1.json\", \"datasets\": {\"data-86c85059702325b8d13f453723c3620d\": [{\"mean_score\": 0.4302209944751382, \"std_score\": 0.04679843961246258, \"max_score\": 0.49444444444444446, \"min_score\": 0.3370165745856354, \"rfi_fs__n_features_\": 20.0, \"nb__var_smoothing\": 3.3516026509388407e-07}, {\"mean_score\": 0.42632903621853907, \"std_score\": 0.04249697117328517, \"max_score\": 0.49444444444444446, \"min_score\": 0.3370165745856354, \"rfi_fs__n_features_\": 20.0, \"nb__var_smoothing\": 2.782559402207126e-05}, {\"mean_score\": 0.4196623695518723, \"std_score\": 0.03866934160402126, \"max_score\": 0.47513812154696133, \"min_score\": 0.3370165745856354, \"rfi_fs__n_features_\": 20.0, \"nb__var_smoothing\": 4.132012400115334e-08}, {\"mean_score\": 0.0, \"std_score\": 0.0, \"max_score\": 0.0, \"min_score\": 0.0, \"rfi_fs__n_features_\": 20.0, \"nb__var_smoothing\": 7.924828983539173}]}};\n",
       "var opt = {};\n",
       "var type = \"vega-lite\";\n",
       "var id = \"80333196-6081-49ad-b19f-a2ecdef69fe1\";\n",
       "\n",
       "var output_area = this;\n",
       "\n",
       "require([\"nbextensions/jupyter-vega/index\"], function(vega) {\n",
       "  var target = document.createElement(\"div\");\n",
       "  target.id = id;\n",
       "  target.className = \"vega-embed\";\n",
       "\n",
       "  var style = document.createElement(\"style\");\n",
       "  style.textContent = [\n",
       "    \".vega-embed .error p {\",\n",
       "    \"  color: firebrick;\",\n",
       "    \"  font-size: 14px;\",\n",
       "    \"}\",\n",
       "  ].join(\"\\\\n\");\n",
       "\n",
       "  // element is a jQuery wrapped DOM element inside the output area\n",
       "  // see http://ipython.readthedocs.io/en/stable/api/generated/\\\n",
       "  // IPython.display.html#IPython.display.Javascript.__init__\n",
       "  element[0].appendChild(target);\n",
       "  element[0].appendChild(style);\n",
       "\n",
       "  vega.render(\"#\" + id, spec, type, opt, output_area);\n",
       "}, function (err) {\n",
       "  if (err.requireType !== \"scripterror\") {\n",
       "    throw(err);\n",
       "  }\n",
       "});\n"
      ],
      "text/plain": [
       "<vega.vegalite.VegaLite at 0x1d2515c64e0>"
      ]
     },
     "metadata": {
      "jupyter-vega": "#80333196-6081-49ad-b19f-a2ecdef69fe1"
     },
     "output_type": "display_data"
    },
    {
     "data": {
      "text/plain": []
     },
     "execution_count": 82,
     "metadata": {},
     "output_type": "execute_result"
    },
    {
     "data": {
      "image/png": "[encoded data removed]"
     },
     "metadata": {
      "jupyter-vega": "#80333196-6081-49ad-b19f-a2ecdef69fe1"
     },
     "output_type": "display_data"
    }
   ],
   "source": [
    "results_NB_features = results_NB[results_NB['rfi_fs__n_features_'] == 20.0]\n",
    "\n",
    "alt.Chart(results_NB_features, \n",
    "          title='NB Performance Comparison with 10 Features'\n",
    "         ).mark_line(point=True).encode(\n",
    "    alt.X('nb__var_smoothing', title='Var. Smoothing'),\n",
    "    alt.Y('mean_score', title='Recall Score', scale=alt.Scale(zero=False))\n",
    ")"
   ]
  },
  {
   "cell_type": "code",
   "execution_count": 83,
   "metadata": {},
   "outputs": [],
   "source": [
    "t_pred = gs_pipe_NB.best_estimator_.predict(test_transformed)"
   ]
  },
  {
   "cell_type": "code",
   "execution_count": 84,
   "metadata": {},
   "outputs": [
    {
     "name": "stdout",
     "output_type": "stream",
     "text": [
      "              precision    recall  f1-score   support\n",
      "\n",
      "         0.0       0.96      0.89      0.92      6132\n",
      "         1.0       0.20      0.42      0.27       386\n",
      "\n",
      "   micro avg       0.86      0.86      0.86      6518\n",
      "   macro avg       0.58      0.66      0.60      6518\n",
      "weighted avg       0.92      0.86      0.89      6518\n",
      "\n"
     ]
    }
   ],
   "source": [
    "from sklearn.metrics import classification_report\n",
    "\n",
    "report_NB = classification_report(target_test, t_pred)\n",
    "print(report_NB)"
   ]
  },
  {
   "cell_type": "code",
   "execution_count": 85,
   "metadata": {},
   "outputs": [
    {
     "name": "stdout",
     "output_type": "stream",
     "text": [
      "[[5465  667]\n",
      " [ 222  164]]\n"
     ]
    }
   ],
   "source": [
    "from sklearn.metrics import confusion_matrix\n",
    "\n",
    "matrix_NB = confusion_matrix(target_test, t_pred)\n",
    "print(matrix_NB)"
   ]
  },
  {
   "cell_type": "markdown",
   "metadata": {},
   "source": [
    "The confusion matrix also shows better results for the true positives. As with the KNN using weighted training data, the model generates many false positives."
   ]
  },
  {
   "cell_type": "markdown",
   "metadata": {},
   "source": [
    "## Performance Comparison"
   ]
  },
  {
   "cell_type": "markdown",
   "metadata": {},
   "source": [
    "In this section we will perform pairwise t-tests for the KNN, DT and NB models to see whether one model is different compared to another model. As a model strategy we use a 10-fold stratified cross validation on each model. We are again interested in the recall score of each model as the performance metric of predicting the test data. A paired t-test is then conducted on these recall scores to test on difference between models. We will be testing on a confidence level of 5%."
   ]
  },
  {
   "cell_type": "code",
   "execution_count": 86,
   "metadata": {},
   "outputs": [
    {
     "name": "stdout",
     "output_type": "stream",
     "text": [
      "0.16828609986504722\n"
     ]
    },
    {
     "data": {
      "text/plain": [
       "0.07070512820512821"
      ]
     },
     "execution_count": 86,
     "metadata": {},
     "output_type": "execute_result"
    }
   ],
   "source": [
    "from sklearn.model_selection import cross_val_score, StratifiedKFold\n",
    "\n",
    "cv_method_ttest = StratifiedKFold(n_splits=10, random_state=111)\n",
    "\n",
    "cv_results_KNN = cross_val_score(estimator=gs_pipe_KNN.best_estimator_,\n",
    "                                 X=Data_test,\n",
    "                                 y=target_test, \n",
    "                                 cv=cv_method_ttest, \n",
    "                                 n_jobs=-2,\n",
    "                                 scoring='recall')\n",
    "print(cv_results_KNN.mean())\n",
    "\n",
    "cv_results_KNN_weighted = cross_val_score(estimator=gs_pipe_KNN_weighted.best_estimator_,\n",
    "                                 X=Data_weighted_test,\n",
    "                                 y=target_weighted_test, \n",
    "                                 cv=cv_method_ttest, \n",
    "                                 n_jobs=-2,\n",
    "                                 scoring='recall')\n",
    "cv_results_KNN_weighted.mean()"
   ]
  },
  {
   "cell_type": "code",
   "execution_count": 88,
   "metadata": {},
   "outputs": [
    {
     "name": "stdout",
     "output_type": "stream",
     "text": [
      "0.062213225371120104\n"
     ]
    },
    {
     "data": {
      "text/plain": [
       "0.0632051282051282"
      ]
     },
     "execution_count": 88,
     "metadata": {},
     "output_type": "execute_result"
    }
   ],
   "source": [
    "cv_results_DT = cross_val_score(estimator=gs_pipe_DT.best_estimator_,\n",
    "                                X=Data_test,\n",
    "                                y=target_test, \n",
    "                                cv=cv_method_ttest, \n",
    "                                n_jobs=-2,\n",
    "                                scoring='recall')\n",
    "print(cv_results_DT.mean())\n",
    "\n",
    "cv_results_DT_weighted = cross_val_score(estimator=gs_pipe_DT_weighted.best_estimator_,\n",
    "                                X=Data_weighted_test,\n",
    "                                y=target_weighted_test, \n",
    "                                cv=cv_method_ttest, \n",
    "                                n_jobs=-2,\n",
    "                                scoring='recall')\n",
    "cv_results_DT_weighted.mean()"
   ]
  },
  {
   "cell_type": "code",
   "execution_count": 87,
   "metadata": {},
   "outputs": [
    {
     "data": {
      "text/plain": [
       "0.3882591093117409"
      ]
     },
     "execution_count": 87,
     "metadata": {},
     "output_type": "execute_result"
    }
   ],
   "source": [
    "cv_results_NB = cross_val_score(estimator=gs_pipe_NB.best_estimator_,\n",
    "                                X=Data_test,\n",
    "                                y=target_test, \n",
    "                                cv=cv_method_ttest, \n",
    "                                n_jobs=-2,\n",
    "                                scoring='recall')\n",
    "cv_results_NB.mean()"
   ]
  },
  {
   "cell_type": "code",
   "execution_count": 89,
   "metadata": {},
   "outputs": [
    {
     "name": "stdout",
     "output_type": "stream",
     "text": [
      "Ttest_relResult(statistic=-5.284417900860191, pvalue=0.0005041445021740805)\n",
      "Ttest_relResult(statistic=-5.11114493030693, pvalue=0.000635520835515637)\n",
      "Ttest_relResult(statistic=-9.796124240357948, pvalue=4.246332310678037e-06)\n",
      "Ttest_relResult(statistic=-8.557777001153678, pvalue=1.2868443300571149e-05)\n",
      "Ttest_relResult(statistic=-0.6559189546966474, pvalue=0.5282863482740976)\n",
      "Ttest_relResult(statistic=-7.604883965560866, pvalue=3.3098373817099915e-05)\n"
     ]
    }
   ],
   "source": [
    "from scipy import stats\n",
    "\n",
    "print(stats.ttest_rel(cv_results_KNN, cv_results_NB))\n",
    "print(stats.ttest_rel(cv_results_DT, cv_results_KNN))\n",
    "print(stats.ttest_rel(cv_results_DT, cv_results_NB))\n",
    "\n",
    "print(stats.ttest_rel(cv_results_KNN_weighted, cv_results_NB))\n",
    "print(stats.ttest_rel(cv_results_DT_weighted, cv_results_KNN_weighted))\n",
    "print(stats.ttest_rel(cv_results_DT_weighted, cv_results_NB))"
   ]
  },
  {
   "cell_type": "markdown",
   "metadata": {},
   "source": [
    "For each paired t-test, the p-value is smaller than our chosen confidence level of 5%. In conclusion, at a 95% significance level, the Naive Bayes is statistically the best model in terms of recall score when compared on the test data."
   ]
  },
  {
   "cell_type": "markdown",
   "metadata": {},
   "source": [
    "To evaluate the models based on the test set further, the classificatoin reports for each model are shown below. "
   ]
  },
  {
   "cell_type": "code",
   "execution_count": 90,
   "metadata": {},
   "outputs": [],
   "source": [
    "pred_KNN = gs_pipe_KNN.predict(Data_test)\n",
    "pred_KNN_weighted = gs_pipe_KNN_weighted.predict(Data_weighted_test)\n",
    "\n",
    "pred_DT = gs_pipe_DT.predict(Data_test)\n",
    "pred_DT_weighted = gs_pipe_DT_weighted.predict(Data_weighted_test)\n",
    "\n",
    "Data_test_transformed = PowerTransformer().fit_transform(Data_test)\n",
    "pred_NB = gs_pipe_NB.predict(Data_test_transformed)"
   ]
  },
  {
   "cell_type": "code",
   "execution_count": 91,
   "metadata": {},
   "outputs": [
    {
     "name": "stdout",
     "output_type": "stream",
     "text": [
      "\n",
      "Classification report for K-Nearest Neighbor\n",
      "              precision    recall  f1-score   support\n",
      "\n",
      "         0.0       0.95      0.94      0.94      6132\n",
      "         1.0       0.14      0.14      0.14       386\n",
      "\n",
      "   micro avg       0.90      0.90      0.90      6518\n",
      "   macro avg       0.54      0.54      0.54      6518\n",
      "weighted avg       0.90      0.90      0.90      6518\n",
      "\n",
      "\n",
      "Classification report for K-Nearest Neighbor (using weighted data)\n",
      "              precision    recall  f1-score   support\n",
      "\n",
      "         0.0       0.95      0.84      0.89      6121\n",
      "         1.0       0.13      0.39      0.20       397\n",
      "\n",
      "   micro avg       0.81      0.81      0.81      6518\n",
      "   macro avg       0.54      0.61      0.55      6518\n",
      "weighted avg       0.90      0.81      0.85      6518\n",
      "\n",
      "\n",
      "Classification report for Decision Tree\n",
      "              precision    recall  f1-score   support\n",
      "\n",
      "         0.0       0.94      0.99      0.97      6132\n",
      "         1.0       0.32      0.04      0.07       386\n",
      "\n",
      "   micro avg       0.94      0.94      0.94      6518\n",
      "   macro avg       0.63      0.52      0.52      6518\n",
      "weighted avg       0.91      0.94      0.91      6518\n",
      "\n",
      "\n",
      "Classification report for Decision Tree (using weighted data)\n",
      "              precision    recall  f1-score   support\n",
      "\n",
      "         0.0       0.96      0.93      0.94      6121\n",
      "         1.0       0.23      0.32      0.27       397\n",
      "\n",
      "   micro avg       0.89      0.89      0.89      6518\n",
      "   macro avg       0.59      0.63      0.61      6518\n",
      "weighted avg       0.91      0.89      0.90      6518\n",
      "\n",
      "\n",
      "Classification report for Naive Bayes\n",
      "              precision    recall  f1-score   support\n",
      "\n",
      "         0.0       0.96      0.89      0.92      6132\n",
      "         1.0       0.20      0.42      0.27       386\n",
      "\n",
      "   micro avg       0.86      0.86      0.86      6518\n",
      "   macro avg       0.58      0.66      0.60      6518\n",
      "weighted avg       0.92      0.86      0.89      6518\n",
      "\n"
     ]
    }
   ],
   "source": [
    "from sklearn import metrics\n",
    "print(\"\\nClassification report for K-Nearest Neighbor\") \n",
    "print(metrics.classification_report(target_test, pred_KNN))\n",
    "print(\"\\nClassification report for K-Nearest Neighbor (using weighted data)\") \n",
    "print(metrics.classification_report(target_weighted_test, pred_KNN_weighted))\n",
    "print(\"\\nClassification report for Decision Tree\") \n",
    "print(metrics.classification_report(target_test, pred_DT))\n",
    "print(\"\\nClassification report for Decision Tree (using weighted data)\") \n",
    "print(metrics.classification_report(target_weighted_test, pred_DT_weighted))\n",
    "print(\"\\nClassification report for Naive Bayes\") \n",
    "print(metrics.classification_report(target_test, pred_NB))"
   ]
  },
  {
   "cell_type": "code",
   "execution_count": 92,
   "metadata": {},
   "outputs": [
    {
     "name": "stdout",
     "output_type": "stream",
     "text": [
      "\n",
      "Confusion matrix for K-Nearest Neighbour\n",
      "[[5057 1075]\n",
      " [ 316   70]]\n",
      "\n",
      "Confusion matrix for K-Nearest Neighbour (using weighted data)\n",
      "[[5130  991]\n",
      " [ 243  154]]\n",
      "\n",
      "Confusion matrix for Decision Tree\n",
      "[[6098   34]\n",
      " [ 370   16]]\n",
      "\n",
      "Confusion matrix for Decision Tree (using weighted data)\n",
      "[[5691  430]\n",
      " [ 268  129]]\n",
      "\n",
      "Confusion matrix for Naive Bayes\n",
      "[[5465  667]\n",
      " [ 222  164]]\n"
     ]
    }
   ],
   "source": [
    "from sklearn import metrics\n",
    "print(\"\\nConfusion matrix for K-Nearest Neighbour\") \n",
    "print(metrics.confusion_matrix(target_test, pred_KNN_weighted))\n",
    "print(\"\\nConfusion matrix for K-Nearest Neighbour (using weighted data)\") \n",
    "print(metrics.confusion_matrix(target_weighted_test, pred_KNN_weighted))\n",
    "print(\"\\nConfusion matrix for Decision Tree\") \n",
    "print(metrics.confusion_matrix(target_test, pred_DT))\n",
    "print(\"\\nConfusion matrix for Decision Tree (using weighted data)\") \n",
    "print(metrics.confusion_matrix(target_weighted_test, pred_DT_weighted))\n",
    "print(\"\\nConfusion matrix for Naive Bayes\") \n",
    "print(metrics.confusion_matrix(target_test, pred_NB))"
   ]
  },
  {
   "cell_type": "markdown",
   "metadata": {},
   "source": [
    "The confusion matrix and classification reports confirm what we have concluded before. The Naive Bayes model is able to get a higher number of true positives with also a higher true positive rate. The model however also predicts many false positives, which is not very satisfactory but at least the true negatives are relatively lower."
   ]
  },
  {
   "cell_type": "markdown",
   "metadata": {},
   "source": [
    "## Limitations and Proposed Solutions"
   ]
  },
  {
   "cell_type": "markdown",
   "metadata": {},
   "source": [
    "Our modeling strategy produced results that were under what we were hoping for. Even our best model failed to correctly classify half of those having a heart attack in the test data. This leaves much to be desired. There may be a limit to how well we can classify heart attacks with this data, but one way we may have been able to achieve higher results would be to use more data. We only used the data from one month of the survey to achieve shorter run times. We could re-run the experiments with the full years data to give our models an extra edge.\n",
    "\n",
    "While building our NB algorithm, we performed our power transformation across all features including our dummy features in the data. If we built a Guassian NB and Bernoulli NB separately on the numerical and dummy features, and calculated the final prediction percentage by multiplying the two models together we may have found more satisfactory results.\n",
    "\n",
    "Even without this extra step our NB algorithm outperformed all others. With the above change as well as changing the threshold in our prediction to something below .5, we would probabaly be able to find a model that predicts a higher percentage of those with a heart attack. Although this may increase the amount of false positives, it would serve a better purpose than our current model."
   ]
  },
  {
   "cell_type": "markdown",
   "metadata": {},
   "source": [
    "## Summary"
   ]
  },
  {
   "cell_type": "markdown",
   "metadata": {},
   "source": [
    "Our Naive Bayes model using 20 of the best features selected by the Random Forest Importance and a variable smoothing parameter of 3.3516e-07 produced the highest cross-validated recall score on our training data. When we evaluated all of our models on the test set, this model also outperformed the others with a recall score of 0.42 on our positive target feature. A couple of our models out performed this had slightly less false positives, but considering the real life cost of predicting someone is going to have a heart attack and being wrong compared to predicting they wont and being wrong, we feel this model is best fit for real world classification."
   ]
  },
  {
   "cell_type": "markdown",
   "metadata": {},
   "source": [
    "## References"
   ]
  },
  {
   "cell_type": "markdown",
   "metadata": {},
   "source": [
    "* Jones E, Oliphant E, Peterson P, et al. SciPy: Open Source Scientific Tools for Python, 2001-, http://www.scipy.org/(http://www.scipy.org/) [Accessed 2019-06-08]\n",
    "* Center for Disease Control and Prevention. BRFSS Survey Data and Documentation, 2017 [data file and\n",
    "codebook]. https://www.cdc.gov/brfss/annual_data/annual_2017.html"
   ]
  }
 ],
 "metadata": {
  "kernelspec": {
   "display_name": "Python 3",
   "language": "python",
   "name": "python3"
  },
  "language_info": {
   "codemirror_mode": {
    "name": "ipython",
    "version": 3
   },
   "file_extension": ".py",
   "mimetype": "text/x-python",
   "name": "python",
   "nbconvert_exporter": "python",
   "pygments_lexer": "ipython3",
   "version": "3.7.4"
  }
 },
 "nbformat": 4,
 "nbformat_minor": 2
}
